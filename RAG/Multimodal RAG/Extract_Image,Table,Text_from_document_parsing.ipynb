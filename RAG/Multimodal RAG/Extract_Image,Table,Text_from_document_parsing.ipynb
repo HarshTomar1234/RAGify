{
  "cells": [
    {
      "cell_type": "markdown",
      "metadata": {
        "id": "AUeScs9rB6Nk"
      },
      "source": [
        "# Realtime multimodal Usecase | Extract Image,Table,Text from Document |"
      ]
    },
    {
      "cell_type": "markdown",
      "source": [
        "### Unstructured Library: Taming the Chaos of Unstructured Data\n",
        "\n",
        "The **unstructured** library is a powerful open-source Python toolkit designed to tackle the pervasive challenge of handling unstructured data. In essence, it provides a streamlined and efficient way to extract and preprocess text from a wide array of file formats that lack a predefined data model, such as PDFs, HTML pages, Word documents, and even images. This process transforms messy, difficult-to-use data into a clean, structured format, making it readily available for a variety of downstream tasks, particularly in the realm of natural language processing (NLP) and machine learning.\n",
        "\n",
        "The core strength of the `unstructured` library lies in its ability to not only extract raw text but also to understand and preserve the inherent structure of a document. For instance, it can differentiate between titles, paragraphs, lists, and other document elements. This \"structural awareness\" is crucial for providing context to large language models (LLMs) and other analytical tools.\n",
        "\n",
        "### Key Use Cases and Functionality\n",
        "\n",
        "The `unstructured` library is instrumental in a range of applications that rely on processing and understanding textual data. Some of its primary uses include:\n",
        "\n",
        "  * **Retrieval-Augmented Generation (RAG):** A common application is in RAG systems, where the library is used to ingest a corpus of documents (like a company's internal knowledge base). The extracted and cleaned text is then used to provide relevant context to an LLM, enabling it to answer questions based on that specific information.\n",
        "\n",
        "  * **Fine-tuning Machine Learning Models:** To adapt a machine learning model to a specific domain, it needs to be trained on relevant data. The `unstructured` library can efficiently preprocess large volumes of domain-specific documents, preparing the text for the fine-tuning process.\n",
        "\n",
        "  * **Traditional ETL (Extract, Transform, Load) Pipelines:** In any data-driven workflow, the initial step often involves gathering data from various sources. `unstructured` serves as a critical component in ETL pipelines by handling the \"extract\" and \"transform\" stages for unstructured data, making it suitable for loading into databases or data warehouses.\n",
        "\n",
        "To achieve this, the library offers several key functionalities:\n",
        "\n",
        "  * **Partitioning:** This is the core function that breaks down a raw document into a sequence of structured elements.\n",
        "  * **Cleaning:** It provides utilities to remove unwanted artifacts from the extracted text, such as HTML tags or repetitive headers and footers.\n",
        "  * **Chunking:** For long documents, the library can intelligently split the text into smaller, more manageable chunks, which is often necessary for feeding into models with limited context windows.\n",
        "\n",
        "Here is a simple Python code snippet demonstrating how to use the `unstructured` library to extract text from a PDF file:\n",
        "\n",
        "```python\n",
        "from unstructured.partition.pdf import partition_pdf\n",
        "\n",
        "elements = partition_pdf(\"example.pdf\")\n",
        "\n",
        "for element in elements:\n",
        "    print(element)\n",
        "```\n",
        "\n",
        "This code would output a list of structured elements found within the \"example.pdf\" file, each element representing a distinct part of the document's content.\n",
        "\n",
        "In conclusion, the `unstructured` library is an essential tool for developers and data scientists working with real-world data. By simplifying the complex process of ingesting and preprocessing unstructured information, it accelerates the development of powerful AI and data analytics applications."
      ],
      "metadata": {
        "id": "_S3oiCsJa0oC"
      }
    },
    {
      "cell_type": "code",
      "execution_count": 1,
      "metadata": {
        "colab": {
          "base_uri": "https://localhost:8080/"
        },
        "id": "M7BsV2KiVRm2",
        "outputId": "c6f3c1a8-7227-4114-aba4-36e68bd03f8e"
      },
      "outputs": [
        {
          "output_type": "stream",
          "name": "stdout",
          "text": [
            "Requirement already satisfied: pillow in /usr/local/lib/python3.12/dist-packages (11.3.0)\n",
            "Requirement already satisfied: pydantic in /usr/local/lib/python3.12/dist-packages (2.11.7)\n",
            "Requirement already satisfied: lxml in /usr/local/lib/python3.12/dist-packages (5.4.0)\n",
            "Requirement already satisfied: matplotlib in /usr/local/lib/python3.12/dist-packages (3.10.0)\n",
            "Requirement already satisfied: unstructured[all-docs] in /usr/local/lib/python3.12/dist-packages (0.18.13)\n",
            "Requirement already satisfied: charset-normalizer in /usr/local/lib/python3.12/dist-packages (from unstructured[all-docs]) (3.4.3)\n",
            "Requirement already satisfied: filetype in /usr/local/lib/python3.12/dist-packages (from unstructured[all-docs]) (1.2.0)\n",
            "Requirement already satisfied: python-magic in /usr/local/lib/python3.12/dist-packages (from unstructured[all-docs]) (0.4.27)\n",
            "Requirement already satisfied: nltk in /usr/local/lib/python3.12/dist-packages (from unstructured[all-docs]) (3.9.1)\n",
            "Requirement already satisfied: requests in /usr/local/lib/python3.12/dist-packages (from unstructured[all-docs]) (2.32.3)\n",
            "Requirement already satisfied: beautifulsoup4 in /usr/local/lib/python3.12/dist-packages (from unstructured[all-docs]) (4.13.4)\n",
            "Requirement already satisfied: emoji in /usr/local/lib/python3.12/dist-packages (from unstructured[all-docs]) (2.14.1)\n",
            "Requirement already satisfied: dataclasses-json in /usr/local/lib/python3.12/dist-packages (from unstructured[all-docs]) (0.6.7)\n",
            "Requirement already satisfied: python-iso639 in /usr/local/lib/python3.12/dist-packages (from unstructured[all-docs]) (2025.2.18)\n",
            "Requirement already satisfied: langdetect in /usr/local/lib/python3.12/dist-packages (from unstructured[all-docs]) (1.0.9)\n",
            "Requirement already satisfied: numpy in /usr/local/lib/python3.12/dist-packages (from unstructured[all-docs]) (2.0.2)\n",
            "Requirement already satisfied: rapidfuzz in /usr/local/lib/python3.12/dist-packages (from unstructured[all-docs]) (3.13.0)\n",
            "Requirement already satisfied: backoff in /usr/local/lib/python3.12/dist-packages (from unstructured[all-docs]) (2.2.1)\n",
            "Requirement already satisfied: typing-extensions in /usr/local/lib/python3.12/dist-packages (from unstructured[all-docs]) (4.14.1)\n",
            "Requirement already satisfied: unstructured-client in /usr/local/lib/python3.12/dist-packages (from unstructured[all-docs]) (0.42.3)\n",
            "Requirement already satisfied: wrapt in /usr/local/lib/python3.12/dist-packages (from unstructured[all-docs]) (1.17.3)\n",
            "Requirement already satisfied: tqdm in /usr/local/lib/python3.12/dist-packages (from unstructured[all-docs]) (4.67.1)\n",
            "Requirement already satisfied: psutil in /usr/local/lib/python3.12/dist-packages (from unstructured[all-docs]) (5.9.5)\n",
            "Requirement already satisfied: python-oxmsg in /usr/local/lib/python3.12/dist-packages (from unstructured[all-docs]) (0.0.2)\n",
            "Requirement already satisfied: html5lib in /usr/local/lib/python3.12/dist-packages (from unstructured[all-docs]) (1.1)\n",
            "Requirement already satisfied: pypandoc in /usr/local/lib/python3.12/dist-packages (from unstructured[all-docs]) (1.15)\n",
            "Requirement already satisfied: pi-heif in /usr/local/lib/python3.12/dist-packages (from unstructured[all-docs]) (1.1.0)\n",
            "Requirement already satisfied: effdet in /usr/local/lib/python3.12/dist-packages (from unstructured[all-docs]) (0.4.1)\n",
            "Requirement already satisfied: pypdf in /usr/local/lib/python3.12/dist-packages (from unstructured[all-docs]) (6.0.0)\n",
            "Requirement already satisfied: pdf2image in /usr/local/lib/python3.12/dist-packages (from unstructured[all-docs]) (1.17.0)\n",
            "Requirement already satisfied: markdown in /usr/local/lib/python3.12/dist-packages (from unstructured[all-docs]) (3.8.2)\n",
            "Requirement already satisfied: python-pptx>=1.0.1 in /usr/local/lib/python3.12/dist-packages (from unstructured[all-docs]) (1.0.2)\n",
            "Requirement already satisfied: onnxruntime>=1.19.0 in /usr/local/lib/python3.12/dist-packages (from unstructured[all-docs]) (1.22.1)\n",
            "Requirement already satisfied: python-docx>=1.1.2 in /usr/local/lib/python3.12/dist-packages (from unstructured[all-docs]) (1.2.0)\n",
            "Requirement already satisfied: unstructured.pytesseract>=0.3.12 in /usr/local/lib/python3.12/dist-packages (from unstructured[all-docs]) (0.3.15)\n",
            "Requirement already satisfied: onnx>=1.17.0 in /usr/local/lib/python3.12/dist-packages (from unstructured[all-docs]) (1.18.0)\n",
            "Requirement already satisfied: networkx in /usr/local/lib/python3.12/dist-packages (from unstructured[all-docs]) (3.5)\n",
            "Requirement already satisfied: pikepdf in /usr/local/lib/python3.12/dist-packages (from unstructured[all-docs]) (9.10.2)\n",
            "Requirement already satisfied: openpyxl in /usr/local/lib/python3.12/dist-packages (from unstructured[all-docs]) (3.1.5)\n",
            "Requirement already satisfied: unstructured-inference>=1.0.5 in /usr/local/lib/python3.12/dist-packages (from unstructured[all-docs]) (1.0.5)\n",
            "Requirement already satisfied: pandas in /usr/local/lib/python3.12/dist-packages (from unstructured[all-docs]) (2.2.2)\n",
            "Requirement already satisfied: google-cloud-vision in /usr/local/lib/python3.12/dist-packages (from unstructured[all-docs]) (3.10.2)\n",
            "Requirement already satisfied: msoffcrypto-tool in /usr/local/lib/python3.12/dist-packages (from unstructured[all-docs]) (5.4.2)\n",
            "Requirement already satisfied: pdfminer.six in /usr/local/lib/python3.12/dist-packages (from unstructured[all-docs]) (20250506)\n",
            "Requirement already satisfied: xlrd in /usr/local/lib/python3.12/dist-packages (from unstructured[all-docs]) (2.0.2)\n",
            "Requirement already satisfied: annotated-types>=0.6.0 in /usr/local/lib/python3.12/dist-packages (from pydantic) (0.7.0)\n",
            "Requirement already satisfied: pydantic-core==2.33.2 in /usr/local/lib/python3.12/dist-packages (from pydantic) (2.33.2)\n",
            "Requirement already satisfied: typing-inspection>=0.4.0 in /usr/local/lib/python3.12/dist-packages (from pydantic) (0.4.1)\n",
            "Requirement already satisfied: contourpy>=1.0.1 in /usr/local/lib/python3.12/dist-packages (from matplotlib) (1.3.3)\n",
            "Requirement already satisfied: cycler>=0.10 in /usr/local/lib/python3.12/dist-packages (from matplotlib) (0.12.1)\n",
            "Requirement already satisfied: fonttools>=4.22.0 in /usr/local/lib/python3.12/dist-packages (from matplotlib) (4.59.1)\n",
            "Requirement already satisfied: kiwisolver>=1.3.1 in /usr/local/lib/python3.12/dist-packages (from matplotlib) (1.4.9)\n",
            "Requirement already satisfied: packaging>=20.0 in /usr/local/lib/python3.12/dist-packages (from matplotlib) (25.0)\n",
            "Requirement already satisfied: pyparsing>=2.3.1 in /usr/local/lib/python3.12/dist-packages (from matplotlib) (3.2.3)\n",
            "Requirement already satisfied: python-dateutil>=2.7 in /usr/local/lib/python3.12/dist-packages (from matplotlib) (2.9.0.post0)\n",
            "Requirement already satisfied: protobuf>=4.25.1 in /usr/local/lib/python3.12/dist-packages (from onnx>=1.17.0->unstructured[all-docs]) (5.29.5)\n",
            "Requirement already satisfied: coloredlogs in /usr/local/lib/python3.12/dist-packages (from onnxruntime>=1.19.0->unstructured[all-docs]) (15.0.1)\n",
            "Requirement already satisfied: flatbuffers in /usr/local/lib/python3.12/dist-packages (from onnxruntime>=1.19.0->unstructured[all-docs]) (25.2.10)\n",
            "Requirement already satisfied: sympy in /usr/local/lib/python3.12/dist-packages (from onnxruntime>=1.19.0->unstructured[all-docs]) (1.13.3)\n",
            "Requirement already satisfied: six>=1.5 in /usr/local/lib/python3.12/dist-packages (from python-dateutil>=2.7->matplotlib) (1.17.0)\n",
            "Requirement already satisfied: XlsxWriter>=0.5.7 in /usr/local/lib/python3.12/dist-packages (from python-pptx>=1.0.1->unstructured[all-docs]) (3.2.5)\n",
            "Requirement already satisfied: python-multipart in /usr/local/lib/python3.12/dist-packages (from unstructured-inference>=1.0.5->unstructured[all-docs]) (0.0.20)\n",
            "Requirement already satisfied: huggingface-hub in /usr/local/lib/python3.12/dist-packages (from unstructured-inference>=1.0.5->unstructured[all-docs]) (0.34.4)\n",
            "Requirement already satisfied: opencv-python!=4.7.0.68 in /usr/local/lib/python3.12/dist-packages (from unstructured-inference>=1.0.5->unstructured[all-docs]) (4.12.0.88)\n",
            "Requirement already satisfied: torch in /usr/local/lib/python3.12/dist-packages (from unstructured-inference>=1.0.5->unstructured[all-docs]) (2.8.0+cu126)\n",
            "Requirement already satisfied: timm in /usr/local/lib/python3.12/dist-packages (from unstructured-inference>=1.0.5->unstructured[all-docs]) (1.0.19)\n",
            "Requirement already satisfied: transformers>=4.25.1 in /usr/local/lib/python3.12/dist-packages (from unstructured-inference>=1.0.5->unstructured[all-docs]) (4.55.2)\n",
            "Requirement already satisfied: accelerate in /usr/local/lib/python3.12/dist-packages (from unstructured-inference>=1.0.5->unstructured[all-docs]) (1.10.0)\n",
            "Requirement already satisfied: scipy in /usr/local/lib/python3.12/dist-packages (from unstructured-inference>=1.0.5->unstructured[all-docs]) (1.16.1)\n",
            "Requirement already satisfied: pypdfium2 in /usr/local/lib/python3.12/dist-packages (from unstructured-inference>=1.0.5->unstructured[all-docs]) (4.30.0)\n",
            "Requirement already satisfied: soupsieve>1.2 in /usr/local/lib/python3.12/dist-packages (from beautifulsoup4->unstructured[all-docs]) (2.7)\n",
            "Requirement already satisfied: marshmallow<4.0.0,>=3.18.0 in /usr/local/lib/python3.12/dist-packages (from dataclasses-json->unstructured[all-docs]) (3.26.1)\n",
            "Requirement already satisfied: typing-inspect<1,>=0.4.0 in /usr/local/lib/python3.12/dist-packages (from dataclasses-json->unstructured[all-docs]) (0.9.0)\n",
            "Requirement already satisfied: torchvision in /usr/local/lib/python3.12/dist-packages (from effdet->unstructured[all-docs]) (0.23.0+cu126)\n",
            "Requirement already satisfied: pycocotools>=2.0.2 in /usr/local/lib/python3.12/dist-packages (from effdet->unstructured[all-docs]) (2.0.10)\n",
            "Requirement already satisfied: omegaconf>=2.0 in /usr/local/lib/python3.12/dist-packages (from effdet->unstructured[all-docs]) (2.3.0)\n",
            "Requirement already satisfied: google-api-core!=2.0.*,!=2.1.*,!=2.10.*,!=2.2.*,!=2.3.*,!=2.4.*,!=2.5.*,!=2.6.*,!=2.7.*,!=2.8.*,!=2.9.*,<3.0.0,>=1.34.1 in /usr/local/lib/python3.12/dist-packages (from google-api-core[grpc]!=2.0.*,!=2.1.*,!=2.10.*,!=2.2.*,!=2.3.*,!=2.4.*,!=2.5.*,!=2.6.*,!=2.7.*,!=2.8.*,!=2.9.*,<3.0.0,>=1.34.1->google-cloud-vision->unstructured[all-docs]) (2.25.1)\n",
            "Requirement already satisfied: google-auth!=2.24.0,!=2.25.0,<3.0.0,>=2.14.1 in /usr/local/lib/python3.12/dist-packages (from google-cloud-vision->unstructured[all-docs]) (2.38.0)\n",
            "Requirement already satisfied: proto-plus<2.0.0,>=1.22.3 in /usr/local/lib/python3.12/dist-packages (from google-cloud-vision->unstructured[all-docs]) (1.26.1)\n",
            "Requirement already satisfied: webencodings in /usr/local/lib/python3.12/dist-packages (from html5lib->unstructured[all-docs]) (0.5.1)\n",
            "Requirement already satisfied: cryptography>=39.0 in /usr/local/lib/python3.12/dist-packages (from msoffcrypto-tool->unstructured[all-docs]) (43.0.3)\n",
            "Requirement already satisfied: olefile>=0.46 in /usr/local/lib/python3.12/dist-packages (from msoffcrypto-tool->unstructured[all-docs]) (0.47)\n",
            "Requirement already satisfied: click in /usr/local/lib/python3.12/dist-packages (from nltk->unstructured[all-docs]) (8.2.1)\n",
            "Requirement already satisfied: joblib in /usr/local/lib/python3.12/dist-packages (from nltk->unstructured[all-docs]) (1.5.1)\n",
            "Requirement already satisfied: regex>=2021.8.3 in /usr/local/lib/python3.12/dist-packages (from nltk->unstructured[all-docs]) (2024.11.6)\n",
            "Requirement already satisfied: et-xmlfile in /usr/local/lib/python3.12/dist-packages (from openpyxl->unstructured[all-docs]) (2.0.0)\n",
            "Requirement already satisfied: pytz>=2020.1 in /usr/local/lib/python3.12/dist-packages (from pandas->unstructured[all-docs]) (2025.2)\n",
            "Requirement already satisfied: tzdata>=2022.7 in /usr/local/lib/python3.12/dist-packages (from pandas->unstructured[all-docs]) (2025.2)\n",
            "Requirement already satisfied: Deprecated in /usr/local/lib/python3.12/dist-packages (from pikepdf->unstructured[all-docs]) (1.2.18)\n",
            "Requirement already satisfied: idna<4,>=2.5 in /usr/local/lib/python3.12/dist-packages (from requests->unstructured[all-docs]) (3.10)\n",
            "Requirement already satisfied: urllib3<3,>=1.21.1 in /usr/local/lib/python3.12/dist-packages (from requests->unstructured[all-docs]) (2.5.0)\n",
            "Requirement already satisfied: certifi>=2017.4.17 in /usr/local/lib/python3.12/dist-packages (from requests->unstructured[all-docs]) (2025.8.3)\n",
            "Requirement already satisfied: aiofiles>=24.1.0 in /usr/local/lib/python3.12/dist-packages (from unstructured-client->unstructured[all-docs]) (24.1.0)\n",
            "Requirement already satisfied: httpcore>=1.0.9 in /usr/local/lib/python3.12/dist-packages (from unstructured-client->unstructured[all-docs]) (1.0.9)\n",
            "Requirement already satisfied: httpx>=0.27.0 in /usr/local/lib/python3.12/dist-packages (from unstructured-client->unstructured[all-docs]) (0.28.1)\n",
            "Requirement already satisfied: requests-toolbelt>=1.0.0 in /usr/local/lib/python3.12/dist-packages (from unstructured-client->unstructured[all-docs]) (1.0.0)\n",
            "Requirement already satisfied: cffi>=1.12 in /usr/local/lib/python3.12/dist-packages (from cryptography>=39.0->msoffcrypto-tool->unstructured[all-docs]) (1.17.1)\n",
            "Requirement already satisfied: googleapis-common-protos<2.0.0,>=1.56.2 in /usr/local/lib/python3.12/dist-packages (from google-api-core!=2.0.*,!=2.1.*,!=2.10.*,!=2.2.*,!=2.3.*,!=2.4.*,!=2.5.*,!=2.6.*,!=2.7.*,!=2.8.*,!=2.9.*,<3.0.0,>=1.34.1->google-api-core[grpc]!=2.0.*,!=2.1.*,!=2.10.*,!=2.2.*,!=2.3.*,!=2.4.*,!=2.5.*,!=2.6.*,!=2.7.*,!=2.8.*,!=2.9.*,<3.0.0,>=1.34.1->google-cloud-vision->unstructured[all-docs]) (1.70.0)\n",
            "Requirement already satisfied: grpcio<2.0.0,>=1.33.2 in /usr/local/lib/python3.12/dist-packages (from google-api-core[grpc]!=2.0.*,!=2.1.*,!=2.10.*,!=2.2.*,!=2.3.*,!=2.4.*,!=2.5.*,!=2.6.*,!=2.7.*,!=2.8.*,!=2.9.*,<3.0.0,>=1.34.1->google-cloud-vision->unstructured[all-docs]) (1.74.0)\n",
            "Requirement already satisfied: grpcio-status<2.0.0,>=1.33.2 in /usr/local/lib/python3.12/dist-packages (from google-api-core[grpc]!=2.0.*,!=2.1.*,!=2.10.*,!=2.2.*,!=2.3.*,!=2.4.*,!=2.5.*,!=2.6.*,!=2.7.*,!=2.8.*,!=2.9.*,<3.0.0,>=1.34.1->google-cloud-vision->unstructured[all-docs]) (1.71.2)\n",
            "Requirement already satisfied: cachetools<6.0,>=2.0.0 in /usr/local/lib/python3.12/dist-packages (from google-auth!=2.24.0,!=2.25.0,<3.0.0,>=2.14.1->google-cloud-vision->unstructured[all-docs]) (5.5.2)\n",
            "Requirement already satisfied: pyasn1-modules>=0.2.1 in /usr/local/lib/python3.12/dist-packages (from google-auth!=2.24.0,!=2.25.0,<3.0.0,>=2.14.1->google-cloud-vision->unstructured[all-docs]) (0.4.2)\n",
            "Requirement already satisfied: rsa<5,>=3.1.4 in /usr/local/lib/python3.12/dist-packages (from google-auth!=2.24.0,!=2.25.0,<3.0.0,>=2.14.1->google-cloud-vision->unstructured[all-docs]) (4.9.1)\n",
            "Requirement already satisfied: h11>=0.16 in /usr/local/lib/python3.12/dist-packages (from httpcore>=1.0.9->unstructured-client->unstructured[all-docs]) (0.16.0)\n",
            "Requirement already satisfied: anyio in /usr/local/lib/python3.12/dist-packages (from httpx>=0.27.0->unstructured-client->unstructured[all-docs]) (4.10.0)\n",
            "Requirement already satisfied: antlr4-python3-runtime==4.9.* in /usr/local/lib/python3.12/dist-packages (from omegaconf>=2.0->effdet->unstructured[all-docs]) (4.9.3)\n",
            "Requirement already satisfied: PyYAML>=5.1.0 in /usr/local/lib/python3.12/dist-packages (from omegaconf>=2.0->effdet->unstructured[all-docs]) (6.0.2)\n",
            "Requirement already satisfied: safetensors in /usr/local/lib/python3.12/dist-packages (from timm->unstructured-inference>=1.0.5->unstructured[all-docs]) (0.6.2)\n",
            "Requirement already satisfied: filelock in /usr/local/lib/python3.12/dist-packages (from torch->unstructured-inference>=1.0.5->unstructured[all-docs]) (3.19.1)\n",
            "Requirement already satisfied: setuptools in /usr/local/lib/python3.12/dist-packages (from torch->unstructured-inference>=1.0.5->unstructured[all-docs]) (75.2.0)\n",
            "Requirement already satisfied: jinja2 in /usr/local/lib/python3.12/dist-packages (from torch->unstructured-inference>=1.0.5->unstructured[all-docs]) (3.1.6)\n",
            "Requirement already satisfied: fsspec in /usr/local/lib/python3.12/dist-packages (from torch->unstructured-inference>=1.0.5->unstructured[all-docs]) (2025.3.0)\n",
            "Requirement already satisfied: nvidia-cuda-nvrtc-cu12==12.6.77 in /usr/local/lib/python3.12/dist-packages (from torch->unstructured-inference>=1.0.5->unstructured[all-docs]) (12.6.77)\n",
            "Requirement already satisfied: nvidia-cuda-runtime-cu12==12.6.77 in /usr/local/lib/python3.12/dist-packages (from torch->unstructured-inference>=1.0.5->unstructured[all-docs]) (12.6.77)\n",
            "Requirement already satisfied: nvidia-cuda-cupti-cu12==12.6.80 in /usr/local/lib/python3.12/dist-packages (from torch->unstructured-inference>=1.0.5->unstructured[all-docs]) (12.6.80)\n",
            "Requirement already satisfied: nvidia-cudnn-cu12==9.10.2.21 in /usr/local/lib/python3.12/dist-packages (from torch->unstructured-inference>=1.0.5->unstructured[all-docs]) (9.10.2.21)\n",
            "Requirement already satisfied: nvidia-cublas-cu12==12.6.4.1 in /usr/local/lib/python3.12/dist-packages (from torch->unstructured-inference>=1.0.5->unstructured[all-docs]) (12.6.4.1)\n",
            "Requirement already satisfied: nvidia-cufft-cu12==11.3.0.4 in /usr/local/lib/python3.12/dist-packages (from torch->unstructured-inference>=1.0.5->unstructured[all-docs]) (11.3.0.4)\n",
            "Requirement already satisfied: nvidia-curand-cu12==10.3.7.77 in /usr/local/lib/python3.12/dist-packages (from torch->unstructured-inference>=1.0.5->unstructured[all-docs]) (10.3.7.77)\n",
            "Requirement already satisfied: nvidia-cusolver-cu12==11.7.1.2 in /usr/local/lib/python3.12/dist-packages (from torch->unstructured-inference>=1.0.5->unstructured[all-docs]) (11.7.1.2)\n",
            "Requirement already satisfied: nvidia-cusparse-cu12==12.5.4.2 in /usr/local/lib/python3.12/dist-packages (from torch->unstructured-inference>=1.0.5->unstructured[all-docs]) (12.5.4.2)\n",
            "Requirement already satisfied: nvidia-cusparselt-cu12==0.7.1 in /usr/local/lib/python3.12/dist-packages (from torch->unstructured-inference>=1.0.5->unstructured[all-docs]) (0.7.1)\n",
            "Requirement already satisfied: nvidia-nccl-cu12==2.27.3 in /usr/local/lib/python3.12/dist-packages (from torch->unstructured-inference>=1.0.5->unstructured[all-docs]) (2.27.3)\n",
            "Requirement already satisfied: nvidia-nvtx-cu12==12.6.77 in /usr/local/lib/python3.12/dist-packages (from torch->unstructured-inference>=1.0.5->unstructured[all-docs]) (12.6.77)\n",
            "Requirement already satisfied: nvidia-nvjitlink-cu12==12.6.85 in /usr/local/lib/python3.12/dist-packages (from torch->unstructured-inference>=1.0.5->unstructured[all-docs]) (12.6.85)\n",
            "Requirement already satisfied: nvidia-cufile-cu12==1.11.1.6 in /usr/local/lib/python3.12/dist-packages (from torch->unstructured-inference>=1.0.5->unstructured[all-docs]) (1.11.1.6)\n",
            "Requirement already satisfied: triton==3.4.0 in /usr/local/lib/python3.12/dist-packages (from torch->unstructured-inference>=1.0.5->unstructured[all-docs]) (3.4.0)\n",
            "Requirement already satisfied: mpmath<1.4,>=1.1.0 in /usr/local/lib/python3.12/dist-packages (from sympy->onnxruntime>=1.19.0->unstructured[all-docs]) (1.3.0)\n",
            "Requirement already satisfied: tokenizers<0.22,>=0.21 in /usr/local/lib/python3.12/dist-packages (from transformers>=4.25.1->unstructured-inference>=1.0.5->unstructured[all-docs]) (0.21.4)\n",
            "Requirement already satisfied: hf-xet<2.0.0,>=1.1.3 in /usr/local/lib/python3.12/dist-packages (from huggingface-hub->unstructured-inference>=1.0.5->unstructured[all-docs]) (1.1.7)\n",
            "Requirement already satisfied: mypy-extensions>=0.3.0 in /usr/local/lib/python3.12/dist-packages (from typing-inspect<1,>=0.4.0->dataclasses-json->unstructured[all-docs]) (1.1.0)\n",
            "Requirement already satisfied: humanfriendly>=9.1 in /usr/local/lib/python3.12/dist-packages (from coloredlogs->onnxruntime>=1.19.0->unstructured[all-docs]) (10.0)\n",
            "Requirement already satisfied: pycparser in /usr/local/lib/python3.12/dist-packages (from cffi>=1.12->cryptography>=39.0->msoffcrypto-tool->unstructured[all-docs]) (2.22)\n",
            "Requirement already satisfied: pyasn1<0.7.0,>=0.6.1 in /usr/local/lib/python3.12/dist-packages (from pyasn1-modules>=0.2.1->google-auth!=2.24.0,!=2.25.0,<3.0.0,>=2.14.1->google-cloud-vision->unstructured[all-docs]) (0.6.1)\n",
            "Requirement already satisfied: sniffio>=1.1 in /usr/local/lib/python3.12/dist-packages (from anyio->httpx>=0.27.0->unstructured-client->unstructured[all-docs]) (1.3.1)\n",
            "Requirement already satisfied: MarkupSafe>=2.0 in /usr/local/lib/python3.12/dist-packages (from jinja2->torch->unstructured-inference>=1.0.5->unstructured[all-docs]) (3.0.2)\n"
          ]
        }
      ],
      "source": [
        "! pip install \"unstructured[all-docs]\" pillow pydantic lxml matplotlib"
      ]
    },
    {
      "cell_type": "code",
      "execution_count": 2,
      "metadata": {
        "colab": {
          "base_uri": "https://localhost:8080/"
        },
        "id": "9ERiIOhfeWeJ",
        "outputId": "6625758d-19b5-460c-c9a1-01a47a164b4e"
      },
      "outputs": [
        {
          "output_type": "stream",
          "name": "stdout",
          "text": [
            "Hit:1 https://cloud.r-project.org/bin/linux/ubuntu jammy-cran40/ InRelease\n",
            "Hit:2 http://archive.ubuntu.com/ubuntu jammy InRelease\n",
            "Hit:3 http://security.ubuntu.com/ubuntu jammy-security InRelease\n",
            "Hit:4 https://developer.download.nvidia.com/compute/cuda/repos/ubuntu2204/x86_64  InRelease\n",
            "Hit:5 https://cli.github.com/packages stable InRelease\n",
            "Hit:6 https://r2u.stat.illinois.edu/ubuntu jammy InRelease\n",
            "Hit:7 http://archive.ubuntu.com/ubuntu jammy-updates InRelease\n",
            "Hit:8 http://archive.ubuntu.com/ubuntu jammy-backports InRelease\n",
            "Hit:9 https://ppa.launchpadcontent.net/deadsnakes/ppa/ubuntu jammy InRelease\n",
            "Hit:10 https://ppa.launchpadcontent.net/graphics-drivers/ppa/ubuntu jammy InRelease\n",
            "Hit:11 https://ppa.launchpadcontent.net/ubuntugis/ppa/ubuntu jammy InRelease\n",
            "Reading package lists... Done\n",
            "W: Skipping acquire of configured file 'main/source/Sources' as repository 'https://r2u.stat.illinois.edu/ubuntu jammy InRelease' does not seem to provide it (sources.list entry misspelt?)\n"
          ]
        }
      ],
      "source": [
        "!sudo apt-get update"
      ]
    },
    {
      "cell_type": "code",
      "execution_count": 3,
      "metadata": {
        "colab": {
          "base_uri": "https://localhost:8080/"
        },
        "id": "Mu97I46AefNj",
        "outputId": "237a52be-a869-4d2c-ad6f-bb744df8c7c9"
      },
      "outputs": [
        {
          "output_type": "stream",
          "name": "stdout",
          "text": [
            "Reading package lists... Done\n",
            "Building dependency tree... Done\n",
            "Reading state information... Done\n",
            "poppler-utils is already the newest version (22.02.0-2ubuntu0.9).\n",
            "0 upgraded, 0 newly installed, 0 to remove and 62 not upgraded.\n"
          ]
        }
      ],
      "source": [
        "!sudo apt-get install poppler-utils"
      ]
    },
    {
      "cell_type": "code",
      "execution_count": 4,
      "metadata": {
        "colab": {
          "base_uri": "https://localhost:8080/"
        },
        "id": "BmntZhzTejwH",
        "outputId": "38f684b9-4f05-4769-faaa-0acceb352947"
      },
      "outputs": [
        {
          "output_type": "stream",
          "name": "stdout",
          "text": [
            "Reading package lists... Done\n",
            "Building dependency tree... Done\n",
            "Reading state information... Done\n",
            "libleptonica-dev is already the newest version (1.82.0-3build1).\n",
            "libtesseract-dev is already the newest version (4.1.1-2.1build1).\n",
            "tesseract-ocr is already the newest version (4.1.1-2.1build1).\n",
            "tesseract-ocr-eng is already the newest version (1:4.00~git30-7274cfa-1.1).\n",
            "tesseract-ocr-script-latn is already the newest version (1:4.00~git30-7274cfa-1.1).\n",
            "python3-pil is already the newest version (9.0.1-1ubuntu0.3).\n",
            "0 upgraded, 0 newly installed, 0 to remove and 62 not upgraded.\n"
          ]
        }
      ],
      "source": [
        "!sudo apt-get install libleptonica-dev tesseract-ocr libtesseract-dev python3-pil tesseract-ocr-eng tesseract-ocr-script-latn"
      ]
    },
    {
      "cell_type": "code",
      "execution_count": 5,
      "metadata": {
        "colab": {
          "base_uri": "https://localhost:8080/"
        },
        "id": "u7Rrt88Nex_u",
        "outputId": "78bb46c8-61c8-4b85-eb66-8efa1bc0d6ff"
      },
      "outputs": [
        {
          "output_type": "stream",
          "name": "stdout",
          "text": [
            "Requirement already satisfied: unstructured-pytesseract in /usr/local/lib/python3.12/dist-packages (0.3.15)\n",
            "Requirement already satisfied: packaging>=21.3 in /usr/local/lib/python3.12/dist-packages (from unstructured-pytesseract) (25.0)\n",
            "Requirement already satisfied: Pillow>=8.0.0 in /usr/local/lib/python3.12/dist-packages (from unstructured-pytesseract) (11.3.0)\n",
            "Requirement already satisfied: tesseract-ocr in /usr/local/lib/python3.12/dist-packages (0.0.1)\n",
            "Requirement already satisfied: cython in /usr/local/lib/python3.12/dist-packages (from tesseract-ocr) (3.0.12)\n"
          ]
        }
      ],
      "source": [
        "!pip install unstructured-pytesseract\n",
        "!pip install tesseract-ocr"
      ]
    },
    {
      "cell_type": "code",
      "execution_count": 6,
      "metadata": {
        "id": "GiVgnFmee7M7"
      },
      "outputs": [],
      "source": [
        "from unstructured.partition.pdf import partition_pdf"
      ]
    },
    {
      "cell_type": "code",
      "execution_count": null,
      "metadata": {
        "id": "j9uoVggzfWRI"
      },
      "outputs": [],
      "source": [
        "raw_pdf_elements=partition_pdf(\n",
        "    filename=\"/content/Attention is all you need.pdf\",\n",
        "    strategy=\"hi_res\",\n",
        "    extract_images_in_pdf=True,\n",
        "    extract_image_block_types=[\"Image\", \"Table\"],\n",
        "    extract_image_block_to_payload=False,\n",
        "    extract_image_block_output_dir=\"extracted_data\"\n",
        "  )"
      ]
    },
    {
      "cell_type": "code",
      "execution_count": 8,
      "metadata": {
        "colab": {
          "base_uri": "https://localhost:8080/"
        },
        "id": "U4h0uSdEhIo6",
        "outputId": "f1008f76-9628-42a1-fd3d-5c60b7fcc4b7"
      },
      "outputs": [
        {
          "output_type": "execute_result",
          "data": {
            "text/plain": [
              "[<unstructured.documents.elements.Text at 0x7e6031fd7230>,\n",
              " <unstructured.documents.elements.Text at 0x7e6031f9dbe0>,\n",
              " <unstructured.documents.elements.Text at 0x7e6031fd7470>,\n",
              " <unstructured.documents.elements.Text at 0x7e6031fd6090>,\n",
              " <unstructured.documents.elements.Text at 0x7e6031fd5820>,\n",
              " <unstructured.documents.elements.Header at 0x7e6031fd52b0>,\n",
              " <unstructured.documents.elements.Text at 0x7e6032104320>,\n",
              " <unstructured.documents.elements.Text at 0x7e6032107fb0>,\n",
              " <unstructured.documents.elements.Text at 0x7e6032107500>,\n",
              " <unstructured.documents.elements.Text at 0x7e6032107890>,\n",
              " <unstructured.documents.elements.Text at 0x7e6031f9c050>,\n",
              " <unstructured.documents.elements.Text at 0x7e6032104380>,\n",
              " <unstructured.documents.elements.Text at 0x7e6032104e90>,\n",
              " <unstructured.documents.elements.Text at 0x7e6032104e30>,\n",
              " <unstructured.documents.elements.Text at 0x7e6032105f10>,\n",
              " <unstructured.documents.elements.NarrativeText at 0x7e6031fd7e60>,\n",
              " <unstructured.documents.elements.Title at 0x7e6031fd6690>,\n",
              " <unstructured.documents.elements.Text at 0x7e6031fd72c0>,\n",
              " <unstructured.documents.elements.Text at 0x7e6031fd56a0>,\n",
              " <unstructured.documents.elements.Text at 0x7e6031fd4ad0>,\n",
              " <unstructured.documents.elements.NarrativeText at 0x7e6031fd6e70>,\n",
              " <unstructured.documents.elements.NarrativeText at 0x7e6031fd6960>,\n",
              " <unstructured.documents.elements.Text at 0x7e6031fd6540>,\n",
              " <unstructured.documents.elements.NarrativeText at 0x7e6031fd60f0>,\n",
              " <unstructured.documents.elements.Text at 0x7e6031fd4620>,\n",
              " <unstructured.documents.elements.NarrativeText at 0x7e6032104260>,\n",
              " <unstructured.documents.elements.NarrativeText at 0x7e6032106c60>,\n",
              " <unstructured.documents.elements.NarrativeText at 0x7e6032107860>,\n",
              " <unstructured.documents.elements.Title at 0x7e60321043b0>,\n",
              " <unstructured.documents.elements.NarrativeText at 0x7e6032105a30>,\n",
              " <unstructured.documents.elements.Title at 0x7e6032106c30>,\n",
              " <unstructured.documents.elements.NarrativeText at 0x7e6032105340>,\n",
              " <unstructured.documents.elements.NarrativeText at 0x7e6032106510>,\n",
              " <unstructured.documents.elements.Text at 0x7e60321070e0>,\n",
              " <unstructured.documents.elements.Text at 0x7e60321042c0>,\n",
              " <unstructured.documents.elements.NarrativeText at 0x7e6031f9f620>,\n",
              " <unstructured.documents.elements.Title at 0x7e6032106930>,\n",
              " <unstructured.documents.elements.NarrativeText at 0x7e60321048f0>,\n",
              " <unstructured.documents.elements.NarrativeText at 0x7e6032105fa0>,\n",
              " <unstructured.documents.elements.NarrativeText at 0x7e60321077a0>,\n",
              " <unstructured.documents.elements.NarrativeText at 0x7e6032105040>,\n",
              " <unstructured.documents.elements.Title at 0x7e6032106600>,\n",
              " <unstructured.documents.elements.NarrativeText at 0x7e6031fd7c20>,\n",
              " <unstructured.documents.elements.NarrativeText at 0x7e6031fd70e0>,\n",
              " <unstructured.documents.elements.NarrativeText at 0x7e6031fd63c0>,\n",
              " <unstructured.documents.elements.NarrativeText at 0x7e6031fd5fd0>,\n",
              " <unstructured.documents.elements.Title at 0x7e6031fd5070>,\n",
              " <unstructured.documents.elements.NarrativeText at 0x7e6031fd7b30>,\n",
              " <unstructured.documents.elements.Footer at 0x7e6031f9c8c0>,\n",
              " <unstructured.documents.elements.Image at 0x7e6031fd5880>,\n",
              " <unstructured.documents.elements.FigureCaption at 0x7e6032107dd0>,\n",
              " <unstructured.documents.elements.NarrativeText at 0x7e6032104590>,\n",
              " <unstructured.documents.elements.Title at 0x7e6032107e00>,\n",
              " <unstructured.documents.elements.NarrativeText at 0x7e6032104860>,\n",
              " <unstructured.documents.elements.NarrativeText at 0x7e6031f9e1b0>,\n",
              " <unstructured.documents.elements.Title at 0x7e6031f9e8d0>,\n",
              " <unstructured.documents.elements.NarrativeText at 0x7e6031f9e8a0>,\n",
              " <unstructured.documents.elements.Footer at 0x7e6031f9d190>,\n",
              " <unstructured.documents.elements.Text at 0x7e60320e1be0>,\n",
              " <unstructured.documents.elements.Text at 0x7e60448e30b0>,\n",
              " <unstructured.documents.elements.Image at 0x7e6031fd7920>,\n",
              " <unstructured.documents.elements.Image at 0x7e6031fd6180>,\n",
              " <unstructured.documents.elements.NarrativeText at 0x7e6031f9ddf0>,\n",
              " <unstructured.documents.elements.NarrativeText at 0x7e6031f9d310>,\n",
              " <unstructured.documents.elements.Title at 0x7e6031f9c080>,\n",
              " <unstructured.documents.elements.NarrativeText at 0x7e6031f9f710>,\n",
              " <unstructured.documents.elements.NarrativeText at 0x7e6031f9fc20>,\n",
              " <unstructured.documents.elements.Formula at 0x7e6031f9eed0>,\n",
              " <unstructured.documents.elements.NarrativeText at 0x7e6031f9e750>,\n",
              " <unstructured.documents.elements.NarrativeText at 0x7e6031f9ea20>,\n",
              " <unstructured.documents.elements.Title at 0x7e6031f9db20>,\n",
              " <unstructured.documents.elements.NarrativeText at 0x7e6031f9f200>,\n",
              " <unstructured.documents.elements.NarrativeText at 0x7e60320e1010>,\n",
              " <unstructured.documents.elements.Text at 0x7e60320e0440>,\n",
              " <unstructured.documents.elements.NarrativeText at 0x7e6031f9fa10>,\n",
              " <unstructured.documents.elements.NarrativeText at 0x7e6031f9ed50>,\n",
              " <unstructured.documents.elements.Formula at 0x7e6031f9f2c0>,\n",
              " <unstructured.documents.elements.NarrativeText at 0x7e60320e05c0>,\n",
              " <unstructured.documents.elements.NarrativeText at 0x7e60320e02c0>,\n",
              " <unstructured.documents.elements.Title at 0x7e6032104cb0>,\n",
              " <unstructured.documents.elements.NarrativeText at 0x7e603200f320>,\n",
              " <unstructured.documents.elements.ListItem at 0x7e603200fce0>,\n",
              " <unstructured.documents.elements.ListItem at 0x7e603200c5c0>,\n",
              " <unstructured.documents.elements.ListItem at 0x7e603200d340>,\n",
              " <unstructured.documents.elements.Title at 0x7e603200fb30>,\n",
              " <unstructured.documents.elements.NarrativeText at 0x7e603200e480>,\n",
              " <unstructured.documents.elements.Formula at 0x7e603200dd00>,\n",
              " <unstructured.documents.elements.NarrativeText at 0x7e603200f500>,\n",
              " <unstructured.documents.elements.Title at 0x7e603200df40>,\n",
              " <unstructured.documents.elements.NarrativeText at 0x7e603200fa70>,\n",
              " <unstructured.documents.elements.Footer at 0x7e603200ef30>,\n",
              " <unstructured.documents.elements.NarrativeText at 0x7e6031f9da60>,\n",
              " <unstructured.documents.elements.Table at 0x7e6031f9fc50>,\n",
              " <unstructured.documents.elements.Title at 0x7e603200c800>,\n",
              " <unstructured.documents.elements.NarrativeText at 0x7e603200ce90>,\n",
              " <unstructured.documents.elements.NarrativeText at 0x7e603200d730>,\n",
              " <unstructured.documents.elements.Formula at 0x7e603200f0e0>,\n",
              " <unstructured.documents.elements.NarrativeText at 0x7e603200e3f0>,\n",
              " <unstructured.documents.elements.NarrativeText at 0x7e603200f9b0>,\n",
              " <unstructured.documents.elements.Title at 0x7e603200ce60>,\n",
              " <unstructured.documents.elements.NarrativeText at 0x7e603200fda0>,\n",
              " <unstructured.documents.elements.NarrativeText at 0x7e60320cc200>,\n",
              " <unstructured.documents.elements.NarrativeText at 0x7e60320cc230>,\n",
              " <unstructured.documents.elements.NarrativeText at 0x7e60320ce6f0>,\n",
              " <unstructured.documents.elements.Text at 0x7e60320ccb90>,\n",
              " <unstructured.documents.elements.NarrativeText at 0x7e603200f1d0>,\n",
              " <unstructured.documents.elements.NarrativeText at 0x7e603200c230>,\n",
              " <unstructured.documents.elements.NarrativeText at 0x7e603200eb40>,\n",
              " <unstructured.documents.elements.Title at 0x7e60320e16d0>,\n",
              " <unstructured.documents.elements.NarrativeText at 0x7e60320cc5c0>,\n",
              " <unstructured.documents.elements.Title at 0x7e60320cd010>,\n",
              " <unstructured.documents.elements.NarrativeText at 0x7e60320cd550>,\n",
              " <unstructured.documents.elements.Title at 0x7e60320cc8f0>,\n",
              " <unstructured.documents.elements.NarrativeText at 0x7e60320cd790>,\n",
              " <unstructured.documents.elements.Title at 0x7e60320cdd60>,\n",
              " <unstructured.documents.elements.NarrativeText at 0x7e60320ce3f0>,\n",
              " <unstructured.documents.elements.Formula at 0x7e60320ce840>,\n",
              " <unstructured.documents.elements.NarrativeText at 0x7e60320cef00>,\n",
              " <unstructured.documents.elements.Title at 0x7e60320cf1a0>,\n",
              " <unstructured.documents.elements.NarrativeText at 0x7e60320cf6e0>,\n",
              " <unstructured.documents.elements.Footer at 0x7e60320cfc50>,\n",
              " <unstructured.documents.elements.FigureCaption at 0x7e6031fd7050>,\n",
              " <unstructured.documents.elements.Table at 0x7e6031f9f3e0>,\n",
              " <unstructured.documents.elements.NarrativeText at 0x7e60320cc110>,\n",
              " <unstructured.documents.elements.NarrativeText at 0x7e60320cd5b0>,\n",
              " <unstructured.documents.elements.Title at 0x7e60320ce1b0>,\n",
              " <unstructured.documents.elements.Title at 0x7e60320cefc0>,\n",
              " <unstructured.documents.elements.NarrativeText at 0x7e60320cfe60>,\n",
              " <unstructured.documents.elements.NarrativeText at 0x7e60320cfef0>,\n",
              " <unstructured.documents.elements.NarrativeText at 0x7e60320ce4e0>,\n",
              " <unstructured.documents.elements.NarrativeText at 0x7e60320cdfd0>,\n",
              " <unstructured.documents.elements.Title at 0x7e60320cc0b0>,\n",
              " <unstructured.documents.elements.NarrativeText at 0x7e60320cf9b0>,\n",
              " <unstructured.documents.elements.Text at 0x7e60320b9f10>,\n",
              " <unstructured.documents.elements.Footer at 0x7e60320bb620>,\n",
              " <unstructured.documents.elements.NarrativeText at 0x7e60320ce450>,\n",
              " <unstructured.documents.elements.Table at 0x7e60320cdd30>,\n",
              " <unstructured.documents.elements.Text at 0x7e603200e1e0>,\n",
              " <unstructured.documents.elements.Text at 0x7e60320ba060>,\n",
              " <unstructured.documents.elements.Text at 0x7e60320b8140>,\n",
              " <unstructured.documents.elements.Text at 0x7e60320b8380>,\n",
              " <unstructured.documents.elements.Text at 0x7e60320b8890>,\n",
              " <unstructured.documents.elements.Text at 0x7e60320b8f20>,\n",
              " <unstructured.documents.elements.Text at 0x7e60320ce960>,\n",
              " <unstructured.documents.elements.Text at 0x7e60320cf290>,\n",
              " <unstructured.documents.elements.NarrativeText at 0x7e60320b8a10>,\n",
              " <unstructured.documents.elements.NarrativeText at 0x7e60320b9a90>,\n",
              " <unstructured.documents.elements.NarrativeText at 0x7e60320b9eb0>,\n",
              " <unstructured.documents.elements.Title at 0x7e60320ba360>,\n",
              " <unstructured.documents.elements.NarrativeText at 0x7e60320ba7e0>,\n",
              " <unstructured.documents.elements.NarrativeText at 0x7e60320bacc0>,\n",
              " <unstructured.documents.elements.NarrativeText at 0x7e60320baf60>,\n",
              " <unstructured.documents.elements.Text at 0x7e60320ba300>,\n",
              " <unstructured.documents.elements.Text at 0x7e60320b9370>,\n",
              " <unstructured.documents.elements.FigureCaption at 0x7e60320cffb0>,\n",
              " <unstructured.documents.elements.Table at 0x7e60320cf890>,\n",
              " <unstructured.documents.elements.NarrativeText at 0x7e60320ba720>,\n",
              " <unstructured.documents.elements.NarrativeText at 0x7e60320b87a0>,\n",
              " <unstructured.documents.elements.NarrativeText at 0x7e60320b92e0>,\n",
              " <unstructured.documents.elements.Title at 0x7e60320b9c70>,\n",
              " <unstructured.documents.elements.NarrativeText at 0x7e60320ba960>,\n",
              " <unstructured.documents.elements.NarrativeText at 0x7e60320b9be0>,\n",
              " <unstructured.documents.elements.NarrativeText at 0x7e60320bb860>,\n",
              " <unstructured.documents.elements.NarrativeText at 0x7e60320bbce0>,\n",
              " <unstructured.documents.elements.NarrativeText at 0x7e60320bbfb0>,\n",
              " <unstructured.documents.elements.Title at 0x7e60320bb8c0>,\n",
              " <unstructured.documents.elements.ListItem at 0x7e60320baea0>,\n",
              " <unstructured.documents.elements.ListItem at 0x7e60320bb140>,\n",
              " <unstructured.documents.elements.ListItem at 0x7e603205a480>,\n",
              " <unstructured.documents.elements.ListItem at 0x7e6032059f40>,\n",
              " <unstructured.documents.elements.Footer at 0x7e6032058080>,\n",
              " <unstructured.documents.elements.ListItem at 0x7e60320b8980>,\n",
              " <unstructured.documents.elements.ListItem at 0x7e60320ba5a0>,\n",
              " <unstructured.documents.elements.ListItem at 0x7e60320bbb00>,\n",
              " <unstructured.documents.elements.ListItem at 0x7e60320b90d0>,\n",
              " <unstructured.documents.elements.ListItem at 0x7e603200cfb0>,\n",
              " <unstructured.documents.elements.ListItem at 0x7e60320585c0>,\n",
              " <unstructured.documents.elements.ListItem at 0x7e6032058260>,\n",
              " <unstructured.documents.elements.ListItem at 0x7e6032058ad0>,\n",
              " <unstructured.documents.elements.ListItem at 0x7e6032059310>,\n",
              " <unstructured.documents.elements.ListItem at 0x7e60320595e0>,\n",
              " <unstructured.documents.elements.ListItem at 0x7e6032059e80>,\n",
              " <unstructured.documents.elements.ListItem at 0x7e603205a300>,\n",
              " <unstructured.documents.elements.ListItem at 0x7e603205a9f0>,\n",
              " <unstructured.documents.elements.ListItem at 0x7e603205ade0>,\n",
              " <unstructured.documents.elements.ListItem at 0x7e603205b170>,\n",
              " <unstructured.documents.elements.ListItem at 0x7e603205b8f0>,\n",
              " <unstructured.documents.elements.ListItem at 0x7e6032058050>,\n",
              " <unstructured.documents.elements.ListItem at 0x7e603205be60>,\n",
              " <unstructured.documents.elements.ListItem at 0x7e604363c470>,\n",
              " <unstructured.documents.elements.ListItem at 0x7e604363faa0>,\n",
              " <unstructured.documents.elements.Footer at 0x7e604363f1d0>,\n",
              " <unstructured.documents.elements.ListItem at 0x7e60320ba000>,\n",
              " <unstructured.documents.elements.ListItem at 0x7e6032058680>,\n",
              " <unstructured.documents.elements.ListItem at 0x7e60320580e0>,\n",
              " <unstructured.documents.elements.ListItem at 0x7e603205a720>,\n",
              " <unstructured.documents.elements.ListItem at 0x7e603205b2c0>,\n",
              " <unstructured.documents.elements.ListItem at 0x7e603205ae70>,\n",
              " <unstructured.documents.elements.ListItem at 0x7e604363d4c0>,\n",
              " <unstructured.documents.elements.ListItem at 0x7e60320cec60>,\n",
              " <unstructured.documents.elements.ListItem at 0x7e604408f680>,\n",
              " <unstructured.documents.elements.ListItem at 0x7e6043409790>,\n",
              " <unstructured.documents.elements.ListItem at 0x7e604342b890>,\n",
              " <unstructured.documents.elements.ListItem at 0x7e6043370ec0>,\n",
              " <unstructured.documents.elements.ListItem at 0x7e6043478da0>,\n",
              " <unstructured.documents.elements.ListItem at 0x7e604332d070>,\n",
              " <unstructured.documents.elements.ListItem at 0x7e6043413320>,\n",
              " <unstructured.documents.elements.ListItem at 0x7e60433bad50>,\n",
              " <unstructured.documents.elements.Footer at 0x7e60320c2390>,\n",
              " <unstructured.documents.elements.Title at 0x7e603205b710>,\n",
              " <unstructured.documents.elements.Image at 0x7e60320cce60>,\n",
              " <unstructured.documents.elements.FigureCaption at 0x7e6043408bc0>,\n",
              " <unstructured.documents.elements.Header at 0x7e60434e39e0>,\n",
              " <unstructured.documents.elements.Image at 0x7e6040f76ba0>,\n",
              " <unstructured.documents.elements.NarrativeText at 0x7e6041040110>,\n",
              " <unstructured.documents.elements.Text at 0x7e6043410dd0>,\n",
              " <unstructured.documents.elements.Image at 0x7e6043412ff0>,\n",
              " <unstructured.documents.elements.Image at 0x7e60320bb170>,\n",
              " <unstructured.documents.elements.FigureCaption at 0x7e60320c07a0>,\n",
              " <unstructured.documents.elements.Header at 0x7e60320c0260>]"
            ]
          },
          "metadata": {},
          "execution_count": 8
        }
      ],
      "source": [
        "raw_pdf_elements"
      ]
    },
    {
      "cell_type": "code",
      "execution_count": 69,
      "metadata": {
        "id": "0udLgeRzkWzo"
      },
      "outputs": [],
      "source": [
        "Header=[]\n",
        "Footer=[]\n",
        "Title=[]\n",
        "NarrativeText=[]\n",
        "Text=[]\n",
        "ListItem=[]\n",
        "\n",
        "\n",
        "for element in raw_pdf_elements:\n",
        "  if \"unstructured.documents.elements.Header\" in str(type(element)):\n",
        "            Header.append(str(element))\n",
        "  elif \"unstructured.documents.elements.Footer\" in str(type(element)):\n",
        "            Footer.append(str(element))\n",
        "  elif \"unstructured.documents.elements.Title\" in str(type(element)):\n",
        "            Title.append(str(element))\n",
        "  elif \"unstructured.documents.elements.NarrativeText\" in str(type(element)):\n",
        "            NarrativeText.append(str(element))\n",
        "  elif \"unstructured.documents.elements.Text\" in str(type(element)):\n",
        "            Text.append(str(element))\n",
        "  elif \"unstructured.documents.elements.ListItem\" in str(type(element)):\n",
        "            ListItem.append(str(element))\n",
        "\n"
      ]
    },
    {
      "cell_type": "code",
      "execution_count": 10,
      "metadata": {
        "colab": {
          "base_uri": "https://localhost:8080/"
        },
        "id": "U3Qjtbxfkslh",
        "outputId": "b500abef-9bbf-43e5-ad2a-8d56029232d7"
      },
      "outputs": [
        {
          "output_type": "execute_result",
          "data": {
            "text/plain": [
              "['Provided proper attribution is provided, Google hereby grants permission to reproduce the tables and figures in this paper solely for use in journalistic or scholarly works.',\n",
              " 'Noam Shazeer∗ Google Brain noam@google.com',\n",
              " 'Niki Parmar∗ Google Research nikip@google.com',\n",
              " 'Google Research usz@google.com',\n",
              " 'Google Research llion@google.com',\n",
              " 'Aidan N. Gomez∗ † University of Toronto aidan@cs.toronto.edu',\n",
              " 'Łukasz Kaiser∗ Google Brain lukaszkaiser@google.com',\n",
              " 'illia.polosukhin@gmail.com',\n",
              " 'The dominant sequence transduction models are based on complex recurrent or convolutional neural networks that include an encoder and a decoder. The best performing models also connect the encoder and decoder through an attention mechanism. We propose a new simple network architecture, the Transformer, based solely on attention mechanisms, dispensing with recurrence and convolutions entirely. Experiments on two machine translation tasks show these models to be superior in quality while being more parallelizable and requiring significantly less time to train. Our model achieves 28.4 BLEU on the WMT 2014 English- to-German translation task, improving over the existing best results, including ensembles, by over 2 BLEU. On the WMT 2014 English-to-French translation task, our model establishes a new single-model state-of-the-art BLEU score of 41.8 after training for 3.5 days on eight GPUs, a small fraction of the training costs of the best models from the literature. We show that the Transformer generalizes well to other tasks by applying it successfully to English constituency parsing both with large and limited training data.',\n",
              " '∗Equal contribution. Listing order is random. Jakob proposed replacing RNNs with self-attention and started the effort to evaluate this idea. Ashish, with Illia, designed and implemented the first Transformer models and has been crucially involved in every aspect of this work. Noam proposed scaled dot-product attention, multi-head attention and the parameter-free position representation and became the other person involved in nearly every detail. Niki designed, implemented, tuned and evaluated countless model variants in our original codebase and tensor2tensor. Llion also experimented with novel model variants, was responsible for our initial codebase, and efficient inference and visualizations. Lukasz and Aidan spent countless long days designing various parts of and implementing tensor2tensor, replacing our earlier codebase, greatly improving results and massively accelerating our research.',\n",
              " '31st Conference on Neural Information Processing Systems (NIPS 2017), Long Beach, CA, USA.',\n",
              " 'Recurrent neural networks, long short-term memory [13] and gated recurrent [7] neural networks in particular, have been firmly established as state of the art approaches in sequence modeling and transduction problems such as language modeling and machine translation [35, 2, 5]. Numerous efforts have since continued to push the boundaries of recurrent language models and encoder-decoder architectures [38, 24, 15].',\n",
              " 'Recurrent models typically factor computation along the symbol positions of the input and output sequences. Aligning the positions to steps in computation time, they generate a sequence of hidden states ht, as a function of the previous hidden state ht−1 and the input for position t. This inherently sequential nature precludes parallelization within training examples, which becomes critical at longer sequence lengths, as memory constraints limit batching across examples. Recent work has achieved significant improvements in computational efficiency through factorization tricks [21] and conditional computation [32], while also improving model performance in case of the latter. The fundamental constraint of sequential computation, however, remains.',\n",
              " 'Attention mechanisms have become an integral part of compelling sequence modeling and transduc- tion models in various tasks, allowing modeling of dependencies without regard to their distance in the input or output sequences [2, 19]. In all but a few cases [27], however, such attention mechanisms are used in conjunction with a recurrent network.',\n",
              " 'In this work we propose the Transformer, a model architecture eschewing recurrence and instead relying entirely on an attention mechanism to draw global dependencies between input and output. The Transformer allows for significantly more parallelization and can reach a new state of the art in translation quality after being trained for as little as twelve hours on eight P100 GPUs.',\n",
              " 'The goal of reducing sequential computation also forms the foundation of the Extended Neural GPU [16], ByteNet [18] and ConvS2S [9], all of which use convolutional neural networks as basic building block, computing hidden representations in parallel for all input and output positions. In these models, the number of operations required to relate signals from two arbitrary input or output positions grows in the distance between positions, linearly for ConvS2S and logarithmically for ByteNet. This makes it more difficult to learn dependencies between distant positions [12]. In the Transformer this is reduced to a constant number of operations, albeit at the cost of reduced effective resolution due to averaging attention-weighted positions, an effect we counteract with Multi-Head Attention as described in section 3.2.',\n",
              " 'Self-attention, sometimes called intra-attention is an attention mechanism relating different positions of a single sequence in order to compute a representation of the sequence. Self-attention has been used successfully in a variety of tasks including reading comprehension, abstractive summarization, textual entailment and learning task-independent sentence representations [4, 27, 28, 22].',\n",
              " 'End-to-end memory networks are based on a recurrent attention mechanism instead of sequence- aligned recurrence and have been shown to perform well on simple-language question answering and language modeling tasks [34].',\n",
              " 'To the best of our knowledge, however, the Transformer is the first transduction model relying entirely on self-attention to compute representations of its input and output without using sequence- aligned RNNs or convolution. In the following sections, we will describe the Transformer, motivate self-attention and discuss its advantages over models such as [17, 18] and [9].',\n",
              " 'Most competitive neural sequence transduction models have an encoder-decoder structure [5, 2, 35]. Here, the encoder maps an input sequence of symbol representations (x1,...,xn) to a sequence of continuous representations z = (z1,...,zn). Given z, the decoder then generates an output sequence (y1,...,ym) of symbols one element at a time. At each step the model is auto-regressive [10], consuming the previously generated symbols as additional input when generating the next.',\n",
              " 'The Transformer follows this overall architecture using stacked self-attention and point-wise, fully connected layers for both the encoder and decoder, shown in the left and right halves of Figure 1, respectively.',\n",
              " 'Encoder: The encoder is composed of a stack of N = 6 identical layers. Each layer has two sub-layers. The first is a multi-head self-attention mechanism, and the second is a simple, position- wise fully connected feed-forward network. We employ a residual connection [11] around each of the two sub-layers, followed by layer normalization [1]. That is, the output of each sub-layer is LayerNorm(x + Sublayer(x)), where Sublayer(x) is the function implemented by the sub-layer itself. To facilitate these residual connections, all sub-layers in the model, as well as the embedding layers, produce outputs of dimension dmodel = 512.',\n",
              " 'Decoder: The decoder is also composed of a stack of N = 6 identical layers. In addition to the two sub-layers in each encoder layer, the decoder inserts a third sub-layer, which performs multi-head attention over the output of the encoder stack. Similar to the encoder, we employ residual connections around each of the sub-layers, followed by layer normalization. We also modify the self-attention sub-layer in the decoder stack to prevent positions from attending to subsequent positions. This masking, combined with fact that the output embeddings are offset by one position, ensures that the predictions for position i can depend only on the known outputs at positions less than i.',\n",
              " 'An attention function can be described as mapping a query and a set of key-value pairs to an output, where the query, keys, values, and output are all vectors. The output is computed as a weighted sum',\n",
              " 'Figure 2: (left) Scaled Dot-Product Attention. (right) Multi-Head Attention consists of several attention layers running in parallel.',\n",
              " 'of the values, where the weight assigned to each value is computed by a compatibility function of the query with the corresponding key.',\n",
              " 'We call our particular attention \"Scaled Dot-Product Attention\" (Figure 2). The input consists of queries and keys of dimension dk, and values of dimension dv. We compute the dot products of the √ dk, and apply a softmax function to obtain the weights on the query with all keys, divide each by values.',\n",
              " 'In practice, we compute the attention function on a set of queries simultaneously, packed together into a matrix Q. The keys and values are also packed together into matrices K and V . We compute the matrix of outputs as:',\n",
              " 'The two most commonly used attention functions are additive attention [2], and dot-product (multi- plicative) attention. Dot-product attention is identical to our algorithm, except for the scaling factor 1√ of . Additive attention computes the compatibility function using a feed-forward network with dk a single hidden layer. While the two are similar in theoretical complexity, dot-product attention is much faster and more space-efficient in practice, since it can be implemented using highly optimized matrix multiplication code.',\n",
              " 'While for small values of dk the two mechanisms perform similarly, additive attention outperforms dot product attention without scaling for larger values of dk [3]. We suspect that for large values of dk, the dot products grow large in magnitude, pushing the softmax function into regions where it has extremely small gradients 4. To counteract this effect, we scale the dot products by 1√ . dk',\n",
              " 'Instead of performing a single attention function with dmodel-dimensional keys, values and queries, we found it beneficial to linearly project the queries, keys and values h times with different, learned linear projections to dk, dk and dv dimensions, respectively. On each of these projected versions of queries, keys and values we then perform the attention function in parallel, yielding dv-dimensional',\n",
              " '‘To illustrate why the dot products get large, assume that the components of q and k are independent random variables with mean 0 and variance 1. Then their dot product, g -k = ves, qiki, has mean 0 and variance dx.',\n",
              " 'output values. These are concatenated and once again projected, resulting in the final values, as depicted in Figure 2.',\n",
              " 'Multi-head attention allows the model to jointly attend to information from different representation subspaces at different positions. With a single attention head, averaging inhibits this.',\n",
              " 'Where the projections are parameter matrices W Q and W O ∈ Rhdv×dmodel. i ∈ Rdmodel×dk, W K i ∈ Rdmodel×dk, W V i ∈ Rdmodel×dv',\n",
              " 'In this work we employ h = 8 parallel attention layers, or heads. For each of these we use dk = dv = dmodel/h = 64. Due to the reduced dimension of each head, the total computational cost is similar to that of single-head attention with full dimensionality.',\n",
              " 'The Transformer uses multi-head attention in three different ways:',\n",
              " 'In addition to attention sub-layers, each of the layers in our encoder and decoder contains a fully connected feed-forward network, which is applied to each position separately and identically. This consists of two linear transformations with a ReLU activation in between.',\n",
              " 'While the linear transformations are the same across different positions, they use different parameters from layer to layer. Another way of describing this is as two convolutions with kernel size 1. The dimensionality of input and output is dmodel = 512, and the inner-layer has dimensionality dff = 2048.',\n",
              " 'Similarly to other sequence transduction models, we use learned embeddings to convert the input tokens and output tokens to vectors of dimension dmodel. We also use the usual learned linear transfor- mation and softmax function to convert the decoder output to predicted next-token probabilities. In our model, we share the same weight matrix between the two embedding layers and the pre-softmax linear transformation, similar to [30]. In the embedding layers, we multiply those weights by √ dmodel.',\n",
              " 'Table 1: Maximum path lengths, per-layer complexity and minimum number of sequential operations for different layer types. n is the sequence length, d is the representation dimension, k is the kernel size of convolutions and r the size of the neighborhood in restricted self-attention.',\n",
              " 'Since our model contains no recurrence and no convolution, in order for the model to make use of the order of the sequence, we must inject some information about the relative or absolute position of the tokens in the sequence. To this end, we add \"positional encodings\" to the input embeddings at the bottoms of the encoder and decoder stacks. The positional encodings have the same dimension dmodel as the embeddings, so that the two can be summed. There are many choices of positional encodings, learned and fixed [9].',\n",
              " 'In this work, we use sine and cosine functions of different frequencies:',\n",
              " 'where pos is the position and i is the dimension. That is, each dimension of the positional encoding corresponds to a sinusoid. The wavelengths form a geometric progression from 2π to 10000 · 2π. We chose this function because we hypothesized it would allow the model to easily learn to attend by relative positions, since for any fixed offset k, PEpos+k can be represented as a linear function of PEpos.',\n",
              " 'We also experimented with using learned positional embeddings [9] instead, and found that the two versions produced nearly identical results (see Table 3 row (E)). We chose the sinusoidal version because it may allow the model to extrapolate to sequence lengths longer than the ones encountered during training.',\n",
              " 'In this section we compare various aspects of self-attention layers to the recurrent and convolu- tional layers commonly used for mapping one variable-length sequence of symbol representations (x1,...,xn) to another sequence of equal length (z1,...,zn), with xi,zi ∈ Rd, such as a hidden layer in a typical sequence transduction encoder or decoder. Motivating our use of self-attention we consider three desiderata.',\n",
              " 'One is the total computational complexity per layer. Another is the amount of computation that can be parallelized, as measured by the minimum number of sequential operations required.',\n",
              " 'The third is the path length between long-range dependencies in the network. Learning long-range dependencies is a key challenge in many sequence transduction tasks. One key factor affecting the ability to learn such dependencies is the length of the paths forward and backward signals have to traverse in the network. The shorter these paths between any combination of positions in the input and output sequences, the easier it is to learn long-range dependencies [12]. Hence we also compare the maximum path length between any two input and output positions in networks composed of the different layer types.',\n",
              " 'As noted in Table 1, a self-attention layer connects all positions with a constant number of sequentially executed operations, whereas a recurrent layer requires O(n) sequential operations. In terms of computational complexity, self-attention layers are faster than recurrent layers when the sequence',\n",
              " 'length n is smaller than the representation dimensionality d, which is most often the case with sentence representations used by state-of-the-art models in machine translations, such as word-piece [38] and byte-pair [31] representations. To improve computational performance for tasks involving very long sequences, self-attention could be restricted to considering only a neighborhood of size r in the input sequence centered around the respective output position. This would increase the maximum path length to O(n/r). We plan to investigate this approach further in future work.',\n",
              " 'A single convolutional layer with kernel width k < n does not connect all pairs of input and output positions. Doing so requires a stack of O(n/k) convolutional layers in the case of contiguous kernels, or O(logk(n)) in the case of dilated convolutions [18], increasing the length of the longest paths between any two positions in the network. Convolutional layers are generally more expensive than recurrent layers, by a factor of k. Separable convolutions [6], however, decrease the complexity considerably, to O(k · n · d + n · d2). Even with k = n, however, the complexity of a separable convolution is equal to the combination of a self-attention layer and a point-wise feed-forward layer, the approach we take in our model.',\n",
              " 'As side benefit, self-attention could yield more interpretable models. We inspect attention distributions from our models and present and discuss examples in the appendix. Not only do individual attention heads clearly learn to perform different tasks, many appear to exhibit behavior related to the syntactic and semantic structure of the sentences.',\n",
              " 'This section describes the training regime for our models.',\n",
              " 'We trained on the standard WMT 2014 English-German dataset consisting of about 4.5 million sentence pairs. Sentences were encoded using byte-pair encoding [3], which has a shared source- target vocabulary of about 37000 tokens. For English-French, we used the significantly larger WMT 2014 English-French dataset consisting of 36M sentences and split tokens into a 32000 word-piece vocabulary [38]. Sentence pairs were batched together by approximate sequence length. Each training batch contained a set of sentence pairs containing approximately 25000 source tokens and 25000 target tokens.',\n",
              " 'We trained our models on one machine with 8 NVIDIA P100 GPUs. For our base models using the hyperparameters described throughout the paper, each training step took about 0.4 seconds. We trained the base models for a total of 100,000 steps or 12 hours. For our big models,(described on the bottom line of table 3), step time was 1.0 seconds. The big models were trained for 300,000 steps (3.5 days).',\n",
              " 'We used the Adam optimizer [20] with β1 = 0.9, β2 = 0.98 and ϵ = 10−9. We varied the learning rate over the course of training, according to the formula:',\n",
              " 'This corresponds to increasing the learning rate linearly for the first warmup_steps training steps, and decreasing it thereafter proportionally to the inverse square root of the step number. We used warmup_steps = 4000.',\n",
              " 'We employ three types of regularization during training:',\n",
              " 'Residual Dropout We apply dropout [33] to the output of each sub-layer, before it is added to the sub-layer input and normalized. In addition, we apply dropout to the sums of the embeddings and the positional encodings in both the encoder and decoder stacks. For the base model, we use a rate of Pdrop = 0.1.',\n",
              " 'Label Smoothing During training, we employed label smoothing of value ϵls = 0.1 [36]. This hurts perplexity, as the model learns to be more unsure, but improves accuracy and BLEU score.',\n",
              " 'On the WMT 2014 English-to-German translation task, the big transformer model (Transformer (big) in Table 2) outperforms the best previously reported models (including ensembles) by more than 2.0 BLEU, establishing a new state-of-the-art BLEU score of 28.4. The configuration of this model is listed in the bottom line of Table 3. Training took 3.5 days on 8 P100 GPUs. Even our base model surpasses all previously published models and ensembles, at a fraction of the training cost of any of the competitive models.',\n",
              " 'On the WMT 2014 English-to-French translation task, our big model achieves a BLEU score of 41.0, outperforming all of the previously published single models, at less than 1/4 the training cost of the previous state-of-the-art model. The Transformer (big) model trained for English-to-French used dropout rate Pdrop = 0.1, instead of 0.3.',\n",
              " 'For the base models, we used a single model obtained by averaging the last 5 checkpoints, which were written at 10-minute intervals. For the big models, we averaged the last 20 checkpoints. We used beam search with a beam size of 4 and length penalty α = 0.6 [38]. These hyperparameters were chosen after experimentation on the development set. We set the maximum output length during inference to input length + 50, but terminate early when possible [38].',\n",
              " 'Table 2 summarizes our results and compares our translation quality and training costs to other model architectures from the literature. We estimate the number of floating point operations used to train a model by multiplying the training time, the number of GPUs used, and an estimate of the sustained single-precision floating-point capacity of each GPU 5.',\n",
              " 'To evaluate the importance of different components of the Transformer, we varied our base model in different ways, measuring the change in performance on English-to-German translation on the',\n",
              " 'Table 3: Variations on the Transformer architecture. Unlisted values are identical to those of the base model. All metrics are on the English-to-German translation development set, newstest2013. Listed perplexities are per-wordpiece, according to our byte-pair encoding, and should not be compared to per-word perplexities.',\n",
              " 'development set, newstest2013. We used beam search as described in the previous section, but no checkpoint averaging. We present these results in Table 3.',\n",
              " 'In Table 3 rows (A), we vary the number of attention heads and the attention key and value dimensions, keeping the amount of computation constant, as described in Section 3.2.2. While single-head attention is 0.9 BLEU worse than the best setting, quality also drops off with too many heads.',\n",
              " 'In Table 3 rows (B), we observe that reducing the attention key size dk hurts model quality. This suggests that determining compatibility is not easy and that a more sophisticated compatibility function than dot product may be beneficial. We further observe in rows (C) and (D) that, as expected, bigger models are better, and dropout is very helpful in avoiding over-fitting. In row (E) we replace our sinusoidal positional encoding with learned positional embeddings [9], and observe nearly identical results to the base model.',\n",
              " 'To evaluate if the Transformer can generalize to other tasks we performed experiments on English constituency parsing. This task presents specific challenges: the output is subject to strong structural constraints and is significantly longer than the input. Furthermore, RNN sequence-to-sequence models have not been able to attain state-of-the-art results in small-data regimes [37].',\n",
              " 'We trained a 4-layer transformer with dmodel = 1024 on the Wall Street Journal (WSJ) portion of the Penn Treebank [25], about 40K training sentences. We also trained it in a semi-supervised setting, using the larger high-confidence and BerkleyParser corpora from with approximately 17M sentences [37]. We used a vocabulary of 16K tokens for the WSJ only setting and a vocabulary of 32K tokens for the semi-supervised setting.',\n",
              " 'We performed only a small number of experiments to select the dropout, both attention and residual (section 5.4), learning rates and beam size on the Section 22 development set, all other parameters remained unchanged from the English-to-German base translation model. During inference, we',\n",
              " 'increased the maximum output length to input length + 300. We used a beam size of 21 and α = 0.3 for both WSJ only and the semi-supervised setting.',\n",
              " 'Our results in Table 4 show that despite the lack of task-specific tuning our model performs sur- prisingly well, yielding better results than all previously reported models with the exception of the Recurrent Neural Network Grammar [8].',\n",
              " 'In contrast to RNN sequence-to-sequence models [37], the Transformer outperforms the Berkeley- Parser [29] even when training only on the WSJ training set of 40K sentences.',\n",
              " 'In this work, we presented the Transformer, the first sequence transduction model based entirely on attention, replacing the recurrent layers most commonly used in encoder-decoder architectures with multi-headed self-attention.',\n",
              " 'For translation tasks, the Transformer can be trained significantly faster than architectures based on recurrent or convolutional layers. On both WMT 2014 English-to-German and WMT 2014 English-to-French translation tasks, we achieve a new state of the art. In the former task our best model outperforms even all previously reported ensembles.',\n",
              " 'We are excited about the future of attention-based models and plan to apply them to other tasks. We plan to extend the Transformer to problems involving input and output modalities other than text and to investigate local, restricted attention mechanisms to efficiently handle large inputs and outputs such as images, audio and video. Making generation less sequential is another research goals of ours.',\n",
              " 'The code we used to train and evaluate our models is available at https://github.com/ tensorflow/tensor2tensor.',\n",
              " 'Acknowledgements We are grateful to Nal Kalchbrenner and Stephan Gouws for their fruitful comments, corrections and inspiration.',\n",
              " 'Figure 4: Two attention heads, also in layer 5 of 6, apparently involved in anaphora resolution. Top: Full attentions for head 5. Bottom: Isolated attentions from just the word ‘its’ for attention heads 5 and 6. Note that the attentions are very sharp for this word.']"
            ]
          },
          "metadata": {},
          "execution_count": 10
        }
      ],
      "source": [
        "NarrativeText"
      ]
    },
    {
      "cell_type": "code",
      "execution_count": 11,
      "metadata": {
        "colab": {
          "base_uri": "https://localhost:8080/"
        },
        "id": "eXxg4HwvkwtB",
        "outputId": "dcd33e02-08c3-4d43-8994-f866bd7cc2cf"
      },
      "outputs": [
        {
          "output_type": "execute_result",
          "data": {
            "text/plain": [
              "['• In \"encoder-decoder attention\" layers, the queries come from the previous decoder layer, and the memory keys and values come from the output of the encoder. This allows every position in the decoder to attend over all positions in the input sequence. This mimics the typical encoder-decoder attention mechanisms in sequence-to-sequence models such as [38, 2, 9].',\n",
              " '• The encoder contains self-attention layers. In a self-attention layer all of the keys, values and queries come from the same place, in this case, the output of the previous layer in the encoder. Each position in the encoder can attend to all positions in the previous layer of the encoder.',\n",
              " '• Similarly, self-attention layers in the decoder allow each position in the decoder to attend to all positions in the decoder up to and including that position. We need to prevent leftward information flow in the decoder to preserve the auto-regressive property. We implement this inside of scaled dot-product attention by masking out (setting to −∞) all values in the input of the softmax which correspond to illegal connections. See Figure 2.',\n",
              " '[1] Jimmy Lei Ba, Jamie Ryan Kiros, and Geoffrey E Hinton. Layer normalization. arXiv preprint arXiv:1607.06450, 2016.',\n",
              " '[2] Dzmitry Bahdanau, Kyunghyun Cho, and Yoshua Bengio. Neural machine translation by jointly learning to align and translate. CoRR, abs/1409.0473, 2014.',\n",
              " '[3] Denny Britz, Anna Goldie, Minh-Thang Luong, and Quoc V. Le. Massive exploration of neural machine translation architectures. CoRR, abs/1703.03906, 2017.',\n",
              " '[4] Jianpeng Cheng, Li Dong, and Mirella Lapata. Long short-term memory-networks for machine reading. arXiv preprint arXiv:1601.06733, 2016.',\n",
              " '[5] Kyunghyun Cho, Bart van Merrienboer, Caglar Gulcehre, Fethi Bougares, Holger Schwenk, and Yoshua Bengio. Learning phrase representations using rnn encoder-decoder for statistical machine translation. CoRR, abs/1406.1078, 2014.',\n",
              " '[6] Francois Chollet. Xception: Deep learning with depthwise separable convolutions. arXiv preprint arXiv:1610.02357, 2016.',\n",
              " '[7] Junyoung Chung, Çaglar Gülçehre, Kyunghyun Cho, and Yoshua Bengio. Empirical evaluation of gated recurrent neural networks on sequence modeling. CoRR, abs/1412.3555, 2014.',\n",
              " '[8] Chris Dyer, Adhiguna Kuncoro, Miguel Ballesteros, and Noah A. Smith. Recurrent neural network grammars. In Proc. of NAACL, 2016.',\n",
              " '[9] Jonas Gehring, Michael Auli, David Grangier, Denis Yarats, and Yann N. Dauphin. Convolu- tional sequence to sequence learning. arXiv preprint arXiv:1705.03122v2, 2017.',\n",
              " '[10] Alex Graves. Generating sequences with recurrent neural networks. arXiv preprint arXiv:1308.0850, 2013.',\n",
              " '[11] Kaiming He, Xiangyu Zhang, Shaoqing Ren, and Jian Sun. Deep residual learning for im- age recognition. In Proceedings of the IEEE Conference on Computer Vision and Pattern Recognition, pages 770–778, 2016.',\n",
              " '[12] Sepp Hochreiter, Yoshua Bengio, Paolo Frasconi, and Jürgen Schmidhuber. Gradient flow in recurrent nets: the difficulty of learning long-term dependencies, 2001.',\n",
              " '[13] Sepp Hochreiter and Jürgen Schmidhuber. Long short-term memory. Neural computation, 9(8):1735–1780, 1997.',\n",
              " '[14] Zhongqiang Huang and Mary Harper. Self-training PCFG grammars with latent annotations across languages. In Proceedings of the 2009 Conference on Empirical Methods in Natural Language Processing, pages 832–841. ACL, August 2009.',\n",
              " '[15] Rafal Jozefowicz, Oriol Vinyals, Mike Schuster, Noam Shazeer, and Yonghui Wu. Exploring the limits of language modeling. arXiv preprint arXiv:1602.02410, 2016.',\n",
              " '[16] Łukasz Kaiser and Samy Bengio. Can active memory replace attention? In Advances in Neural Information Processing Systems, (NIPS), 2016.',\n",
              " '[17] Łukasz Kaiser and Ilya Sutskever. Neural GPUs learn algorithms. In International Conference on Learning Representations (ICLR), 2016.',\n",
              " '[18] Nal Kalchbrenner, Lasse Espeholt, Karen Simonyan, Aaron van den Oord, Alex Graves, and Ko- ray Kavukcuoglu. Neural machine translation in linear time. arXiv preprint arXiv:1610.10099v2, 2017.',\n",
              " '[19] Yoon Kim, Carl Denton, Luong Hoang, and Alexander M. Rush. Structured attention networks. In International Conference on Learning Representations, 2017.',\n",
              " '[20] Diederik Kingma and Jimmy Ba. Adam: A method for stochastic optimization. In ICLR, 2015.',\n",
              " '[21] Oleksii Kuchaiev and Boris Ginsburg. Factorization tricks for LSTM networks. arXiv preprint arXiv:1703.10722, 2017.',\n",
              " '[22] Zhouhan Lin, Minwei Feng, Cicero Nogueira dos Santos, Mo Yu, Bing Xiang, Bowen Zhou, and Yoshua Bengio. A structured self-attentive sentence embedding. arXiv preprint arXiv:1703.03130, 2017.',\n",
              " '[23] Minh-Thang Luong, Quoc V. Le, Ilya Sutskever, Oriol Vinyals, and Lukasz Kaiser. Multi-task sequence to sequence learning. arXiv preprint arXiv:1511.06114, 2015.',\n",
              " '[24] Minh-Thang Luong, Hieu Pham, and Christopher D Manning. Effective approaches to attention- based neural machine translation. arXiv preprint arXiv:1508.04025, 2015.',\n",
              " '[25] Mitchell P Marcus, Mary Ann Marcinkiewicz, and Beatrice Santorini. Building a large annotated corpus of english: The penn treebank. Computational linguistics, 19(2):313–330, 1993.',\n",
              " '[26] David McClosky, Eugene Charniak, and Mark Johnson. Effective self-training for parsing. In Proceedings of the Human Language Technology Conference of the NAACL, Main Conference, pages 152–159. ACL, June 2006.',\n",
              " '[27] Ankur Parikh, Oscar Täckström, Dipanjan Das, and Jakob Uszkoreit. A decomposable attention model. In Empirical Methods in Natural Language Processing, 2016.',\n",
              " '[28] Romain Paulus, Caiming Xiong, and Richard Socher. A deep reinforced model for abstractive summarization. arXiv preprint arXiv:1705.04304, 2017.',\n",
              " '[29] Slav Petrov, Leon Barrett, Romain Thibaux, and Dan Klein. Learning accurate, compact, and interpretable tree annotation. In Proceedings of the 21st International Conference on Computational Linguistics and 44th Annual Meeting of the ACL, pages 433–440. ACL, July 2006.',\n",
              " '[30] Ofir Press and Lior Wolf. Using the output embedding to improve language models. arXiv preprint arXiv:1608.05859, 2016.',\n",
              " '[31] Rico Sennrich, Barry Haddow, and Alexandra Birch. Neural machine translation of rare words with subword units. arXiv preprint arXiv:1508.07909, 2015.',\n",
              " '[32] Noam Shazeer, Azalia Mirhoseini, Krzysztof Maziarz, Andy Davis, Quoc Le, Geoffrey Hinton, and Jeff Dean. Outrageously large neural networks: The sparsely-gated mixture-of-experts layer. arXiv preprint arXiv:1701.06538, 2017.',\n",
              " '[33] Nitish Srivastava, Geoffrey E Hinton, Alex Krizhevsky, Ilya Sutskever, and Ruslan Salakhutdi- nov. Dropout: a simple way to prevent neural networks from overfitting. Journal of Machine Learning Research, 15(1):1929–1958, 2014.',\n",
              " '[34] Sainbayar Sukhbaatar, Arthur Szlam, Jason Weston, and Rob Fergus. End-to-end memory networks. In C. Cortes, N. D. Lawrence, D. D. Lee, M. Sugiyama, and R. Garnett, editors, Advances in Neural Information Processing Systems 28, pages 2440–2448. Curran Associates, Inc., 2015.',\n",
              " '[35] Ilya Sutskever, Oriol Vinyals, and Quoc VV Le. Sequence to sequence learning with neural networks. In Advances in Neural Information Processing Systems, pages 3104–3112, 2014.',\n",
              " '[36] Christian Szegedy, Vincent Vanhoucke, Sergey Ioffe, Jonathon Shlens, and Zbigniew Wojna. Rethinking the inception architecture for computer vision. CoRR, abs/1512.00567, 2015.',\n",
              " '[37] Vinyals & Kaiser, Koo, Petrov, Sutskever, and Hinton. Grammar as a foreign language. In Advances in Neural Information Processing Systems, 2015.',\n",
              " '[38] Yonghui Wu, Mike Schuster, Zhifeng Chen, Quoc V Le, Mohammad Norouzi, Wolfgang Macherey, Maxim Krikun, Yuan Cao, Qin Gao, Klaus Macherey, et al. Google’s neural machine translation system: Bridging the gap between human and machine translation. arXiv preprint arXiv:1609.08144, 2016.',\n",
              " '[39] Jie Zhou, Ying Cao, Xuguang Wang, Peng Li, and Wei Xu. Deep recurrent models with fast-forward connections for neural machine translation. CoRR, abs/1606.04199, 2016.',\n",
              " '[40] Muhua Zhu, Yue Zhang, Wenliang Chen, Min Zhang, and Jingbo Zhu. Fast and accurate shift-reduce constituent parsing. In Proceedings of the 51st Annual Meeting of the ACL (Volume 1: Long Papers), pages 434–443. ACL, August 2013.']"
            ]
          },
          "metadata": {},
          "execution_count": 11
        }
      ],
      "source": [
        "ListItem"
      ]
    },
    {
      "cell_type": "code",
      "execution_count": 12,
      "metadata": {
        "id": "QRsiXMKEkqjl"
      },
      "outputs": [],
      "source": [
        "img=[]\n",
        "for element in raw_pdf_elements:\n",
        "  if \"unstructured.documents.elements.Image\" in str(type(element)):\n",
        "            img.append(str(element))"
      ]
    },
    {
      "cell_type": "code",
      "execution_count": 13,
      "metadata": {
        "colab": {
          "base_uri": "https://localhost:8080/",
          "height": 53
        },
        "id": "-idYwDsQlCYy",
        "outputId": "30c8712f-ec65-4835-d190-f0054db46fd0"
      },
      "outputs": [
        {
          "output_type": "execute_result",
          "data": {
            "text/plain": [
              "'Output Probabilities Add & Norm Feed Forward Add & Norm Multi-Head Attention yo Add & Norm Add & Norm Feed Forward Nx | Cag Norm) Add & Norm Masked Multi-Head Multi-Head Attention Attention Lt Lt Positional Positional Encoding EQ © OY Encoding Input Output Embedding Embedding Inputs Outputs (shifted right)'"
            ],
            "application/vnd.google.colaboratory.intrinsic+json": {
              "type": "string"
            }
          },
          "metadata": {},
          "execution_count": 13
        }
      ],
      "source": [
        "img[0]"
      ]
    },
    {
      "cell_type": "code",
      "source": [
        "tab=[]\n",
        "for element in raw_pdf_elements:\n",
        "  if \"unstructured.documents.elements.Table\" in str(type(element)):\n",
        "            tab.append(str(element))"
      ],
      "metadata": {
        "id": "Z7OcRthSWhv7"
      },
      "execution_count": 14,
      "outputs": []
    },
    {
      "cell_type": "code",
      "source": [
        "tab[1]"
      ],
      "metadata": {
        "colab": {
          "base_uri": "https://localhost:8080/",
          "height": 70
        },
        "id": "LA8y5cYeWkJ2",
        "outputId": "91afd05e-1766-4689-eee2-dc13a94e559d"
      },
      "execution_count": 15,
      "outputs": [
        {
          "output_type": "execute_result",
          "data": {
            "text/plain": [
              "'Model BLEU EN-DE EN-FR Training Cost (FLOPs) EN-DE EN-FR ByteNet [18] 23.75 Deep-Att + PosUnk [39] 39.2 1.0 · 1020 GNMT + RL [38] 24.6 39.92 2.3 · 1019 1.4 · 1020 ConvS2S [9] 25.16 40.46 9.6 · 1018 1.5 · 1020 MoE [32] 26.03 40.56 2.0 · 1019 1.2 · 1020 Deep-Att + PosUnk Ensemble [39] 40.4 8.0 · 1020 GNMT + RL Ensemble [38] 26.30 41.16 1.8 · 1020 1.1 · 1021 ConvS2S Ensemble [9] 26.36 41.29 7.7 · 1019 1.2 · 1021 Transformer (base model) 27.3 38.1 3.3 · 1018 Transformer (big) 28.4 41.8 2.3 · 1019'"
            ],
            "application/vnd.google.colaboratory.intrinsic+json": {
              "type": "string"
            }
          },
          "metadata": {},
          "execution_count": 15
        }
      ]
    },
    {
      "cell_type": "code",
      "execution_count": 16,
      "metadata": {
        "id": "wxEKH9xWk9SP"
      },
      "outputs": [],
      "source": [
        "# raw_pdf_elements2=partition_pdf(\n",
        "#     filename=\"/content/RAG.pdf\",\n",
        "#     strategy=\"hi_res\",\n",
        "#     extract_images_in_pdf=True,\n",
        "#     extract_image_block_types=[\"Image\", \"Table\"],\n",
        "#     extract_image_block_to_payload=False,\n",
        "#     extract_image_block_output_dir=\"extracted_data2\"\n",
        "#   )"
      ]
    },
    {
      "cell_type": "code",
      "execution_count": 17,
      "metadata": {
        "id": "fk8hSSbZlBhM"
      },
      "outputs": [],
      "source": [
        "# raw_pdf_elements2"
      ]
    },
    {
      "cell_type": "code",
      "execution_count": 18,
      "metadata": {
        "id": "K-NxyHd2mc_n"
      },
      "outputs": [],
      "source": [
        "# img=[]\n",
        "# for element in raw_pdf_elements2:\n",
        "#   if \"unstructured.documents.elements.Image\" in str(type(element)):\n",
        "#             # img.append(str(element))"
      ]
    },
    {
      "cell_type": "code",
      "execution_count": 19,
      "metadata": {
        "id": "ZyheLpbZnDnm"
      },
      "outputs": [],
      "source": [
        "# img"
      ]
    },
    {
      "cell_type": "code",
      "execution_count": 20,
      "metadata": {
        "id": "EJXbI-qnmiqh"
      },
      "outputs": [],
      "source": [
        "# tab=[]\n",
        "# for element in raw_pdf_elements2:\n",
        "#   if \"unstructured.documents.elements.Table\" in str(type(element)):\n",
        "#             tab.append(str(element))"
      ]
    },
    {
      "cell_type": "code",
      "execution_count": 21,
      "metadata": {
        "id": "ggmzHxN_nGbQ"
      },
      "outputs": [],
      "source": [
        "# tab[0]"
      ]
    },
    {
      "cell_type": "code",
      "execution_count": 22,
      "metadata": {
        "id": "Q_HPBYJUmki8"
      },
      "outputs": [],
      "source": [
        "# NarrativeText=[]\n",
        "# for element in raw_pdf_elements2:\n",
        "#   if \"unstructured.documents.elements.NarrativeText\" in str(type(element)):\n",
        "#             NarrativeText.append(str(element))"
      ]
    },
    {
      "cell_type": "code",
      "execution_count": 23,
      "metadata": {
        "id": "BEQ3vkYjmnER"
      },
      "outputs": [],
      "source": [
        "# ListItem=[]\n",
        "# for element in raw_pdf_elements2:\n",
        "#   if \"unstructured.documents.elements.ListItem\" in str(type(element)):\n",
        "#             ListItem.append(str(element))"
      ]
    },
    {
      "cell_type": "code",
      "execution_count": 24,
      "metadata": {
        "id": "NqS75kwYnF84"
      },
      "outputs": [],
      "source": [
        "# NarrativeText\n"
      ]
    },
    {
      "cell_type": "code",
      "execution_count": 25,
      "metadata": {
        "id": "AiKLLrmfv_D_"
      },
      "outputs": [],
      "source": [
        "# ListItem"
      ]
    },
    {
      "cell_type": "code",
      "execution_count": 26,
      "metadata": {
        "colab": {
          "base_uri": "https://localhost:8080/"
        },
        "id": "-_OkfkQH3Y2s",
        "outputId": "eac21d6f-5f36-4ad5-997b-83c252dea285"
      },
      "outputs": [
        {
          "output_type": "stream",
          "name": "stdout",
          "text": [
            "Requirement already satisfied: langchain_core in /usr/local/lib/python3.12/dist-packages (0.3.74)\n",
            "Requirement already satisfied: langsmith>=0.3.45 in /usr/local/lib/python3.12/dist-packages (from langchain_core) (0.4.14)\n",
            "Requirement already satisfied: tenacity!=8.4.0,<10.0.0,>=8.1.0 in /usr/local/lib/python3.12/dist-packages (from langchain_core) (9.1.2)\n",
            "Requirement already satisfied: jsonpatch<2.0,>=1.33 in /usr/local/lib/python3.12/dist-packages (from langchain_core) (1.33)\n",
            "Requirement already satisfied: PyYAML>=5.3 in /usr/local/lib/python3.12/dist-packages (from langchain_core) (6.0.2)\n",
            "Requirement already satisfied: typing-extensions>=4.7 in /usr/local/lib/python3.12/dist-packages (from langchain_core) (4.14.1)\n",
            "Requirement already satisfied: packaging>=23.2 in /usr/local/lib/python3.12/dist-packages (from langchain_core) (25.0)\n",
            "Requirement already satisfied: pydantic>=2.7.4 in /usr/local/lib/python3.12/dist-packages (from langchain_core) (2.11.7)\n",
            "Requirement already satisfied: jsonpointer>=1.9 in /usr/local/lib/python3.12/dist-packages (from jsonpatch<2.0,>=1.33->langchain_core) (3.0.0)\n",
            "Requirement already satisfied: httpx<1,>=0.23.0 in /usr/local/lib/python3.12/dist-packages (from langsmith>=0.3.45->langchain_core) (0.28.1)\n",
            "Requirement already satisfied: orjson>=3.9.14 in /usr/local/lib/python3.12/dist-packages (from langsmith>=0.3.45->langchain_core) (3.11.2)\n",
            "Requirement already satisfied: requests-toolbelt>=1.0.0 in /usr/local/lib/python3.12/dist-packages (from langsmith>=0.3.45->langchain_core) (1.0.0)\n",
            "Requirement already satisfied: requests>=2.0.0 in /usr/local/lib/python3.12/dist-packages (from langsmith>=0.3.45->langchain_core) (2.32.3)\n",
            "Requirement already satisfied: zstandard>=0.23.0 in /usr/local/lib/python3.12/dist-packages (from langsmith>=0.3.45->langchain_core) (0.23.0)\n",
            "Requirement already satisfied: annotated-types>=0.6.0 in /usr/local/lib/python3.12/dist-packages (from pydantic>=2.7.4->langchain_core) (0.7.0)\n",
            "Requirement already satisfied: pydantic-core==2.33.2 in /usr/local/lib/python3.12/dist-packages (from pydantic>=2.7.4->langchain_core) (2.33.2)\n",
            "Requirement already satisfied: typing-inspection>=0.4.0 in /usr/local/lib/python3.12/dist-packages (from pydantic>=2.7.4->langchain_core) (0.4.1)\n",
            "Requirement already satisfied: anyio in /usr/local/lib/python3.12/dist-packages (from httpx<1,>=0.23.0->langsmith>=0.3.45->langchain_core) (4.10.0)\n",
            "Requirement already satisfied: certifi in /usr/local/lib/python3.12/dist-packages (from httpx<1,>=0.23.0->langsmith>=0.3.45->langchain_core) (2025.8.3)\n",
            "Requirement already satisfied: httpcore==1.* in /usr/local/lib/python3.12/dist-packages (from httpx<1,>=0.23.0->langsmith>=0.3.45->langchain_core) (1.0.9)\n",
            "Requirement already satisfied: idna in /usr/local/lib/python3.12/dist-packages (from httpx<1,>=0.23.0->langsmith>=0.3.45->langchain_core) (3.10)\n",
            "Requirement already satisfied: h11>=0.16 in /usr/local/lib/python3.12/dist-packages (from httpcore==1.*->httpx<1,>=0.23.0->langsmith>=0.3.45->langchain_core) (0.16.0)\n",
            "Requirement already satisfied: charset-normalizer<4,>=2 in /usr/local/lib/python3.12/dist-packages (from requests>=2.0.0->langsmith>=0.3.45->langchain_core) (3.4.3)\n",
            "Requirement already satisfied: urllib3<3,>=1.21.1 in /usr/local/lib/python3.12/dist-packages (from requests>=2.0.0->langsmith>=0.3.45->langchain_core) (2.5.0)\n",
            "Requirement already satisfied: sniffio>=1.1 in /usr/local/lib/python3.12/dist-packages (from anyio->httpx<1,>=0.23.0->langsmith>=0.3.45->langchain_core) (1.3.1)\n"
          ]
        }
      ],
      "source": [
        "!pip install langchain_core"
      ]
    },
    {
      "cell_type": "code",
      "execution_count": 27,
      "metadata": {
        "colab": {
          "base_uri": "https://localhost:8080/"
        },
        "id": "rbRMkWGOefZm",
        "outputId": "e5aea30f-ed83-4dfb-9ea3-45fa3035dc22"
      },
      "outputs": [
        {
          "output_type": "stream",
          "name": "stdout",
          "text": [
            "Requirement already satisfied: langchain_openai in /usr/local/lib/python3.12/dist-packages (0.3.30)\n",
            "Requirement already satisfied: langchain_google_genai in /usr/local/lib/python3.12/dist-packages (2.1.9)\n",
            "Requirement already satisfied: langchain-core<1.0.0,>=0.3.74 in /usr/local/lib/python3.12/dist-packages (from langchain_openai) (0.3.74)\n",
            "Requirement already satisfied: openai<2.0.0,>=1.99.9 in /usr/local/lib/python3.12/dist-packages (from langchain_openai) (1.99.9)\n",
            "Requirement already satisfied: tiktoken<1,>=0.7 in /usr/local/lib/python3.12/dist-packages (from langchain_openai) (0.11.0)\n",
            "Requirement already satisfied: filetype<2.0.0,>=1.2.0 in /usr/local/lib/python3.12/dist-packages (from langchain_google_genai) (1.2.0)\n",
            "Requirement already satisfied: google-ai-generativelanguage<0.7.0,>=0.6.18 in /usr/local/lib/python3.12/dist-packages (from langchain_google_genai) (0.6.18)\n",
            "Requirement already satisfied: pydantic<3,>=2 in /usr/local/lib/python3.12/dist-packages (from langchain_google_genai) (2.11.7)\n",
            "Requirement already satisfied: google-api-core!=2.0.*,!=2.1.*,!=2.10.*,!=2.2.*,!=2.3.*,!=2.4.*,!=2.5.*,!=2.6.*,!=2.7.*,!=2.8.*,!=2.9.*,<3.0.0,>=1.34.1 in /usr/local/lib/python3.12/dist-packages (from google-api-core[grpc]!=2.0.*,!=2.1.*,!=2.10.*,!=2.2.*,!=2.3.*,!=2.4.*,!=2.5.*,!=2.6.*,!=2.7.*,!=2.8.*,!=2.9.*,<3.0.0,>=1.34.1->google-ai-generativelanguage<0.7.0,>=0.6.18->langchain_google_genai) (2.25.1)\n",
            "Requirement already satisfied: google-auth!=2.24.0,!=2.25.0,<3.0.0,>=2.14.1 in /usr/local/lib/python3.12/dist-packages (from google-ai-generativelanguage<0.7.0,>=0.6.18->langchain_google_genai) (2.38.0)\n",
            "Requirement already satisfied: proto-plus<2.0.0,>=1.22.3 in /usr/local/lib/python3.12/dist-packages (from google-ai-generativelanguage<0.7.0,>=0.6.18->langchain_google_genai) (1.26.1)\n",
            "Requirement already satisfied: protobuf!=4.21.0,!=4.21.1,!=4.21.2,!=4.21.3,!=4.21.4,!=4.21.5,<7.0.0,>=3.20.2 in /usr/local/lib/python3.12/dist-packages (from google-ai-generativelanguage<0.7.0,>=0.6.18->langchain_google_genai) (5.29.5)\n",
            "Requirement already satisfied: langsmith>=0.3.45 in /usr/local/lib/python3.12/dist-packages (from langchain-core<1.0.0,>=0.3.74->langchain_openai) (0.4.14)\n",
            "Requirement already satisfied: tenacity!=8.4.0,<10.0.0,>=8.1.0 in /usr/local/lib/python3.12/dist-packages (from langchain-core<1.0.0,>=0.3.74->langchain_openai) (9.1.2)\n",
            "Requirement already satisfied: jsonpatch<2.0,>=1.33 in /usr/local/lib/python3.12/dist-packages (from langchain-core<1.0.0,>=0.3.74->langchain_openai) (1.33)\n",
            "Requirement already satisfied: PyYAML>=5.3 in /usr/local/lib/python3.12/dist-packages (from langchain-core<1.0.0,>=0.3.74->langchain_openai) (6.0.2)\n",
            "Requirement already satisfied: typing-extensions>=4.7 in /usr/local/lib/python3.12/dist-packages (from langchain-core<1.0.0,>=0.3.74->langchain_openai) (4.14.1)\n",
            "Requirement already satisfied: packaging>=23.2 in /usr/local/lib/python3.12/dist-packages (from langchain-core<1.0.0,>=0.3.74->langchain_openai) (25.0)\n",
            "Requirement already satisfied: anyio<5,>=3.5.0 in /usr/local/lib/python3.12/dist-packages (from openai<2.0.0,>=1.99.9->langchain_openai) (4.10.0)\n",
            "Requirement already satisfied: distro<2,>=1.7.0 in /usr/local/lib/python3.12/dist-packages (from openai<2.0.0,>=1.99.9->langchain_openai) (1.9.0)\n",
            "Requirement already satisfied: httpx<1,>=0.23.0 in /usr/local/lib/python3.12/dist-packages (from openai<2.0.0,>=1.99.9->langchain_openai) (0.28.1)\n",
            "Requirement already satisfied: jiter<1,>=0.4.0 in /usr/local/lib/python3.12/dist-packages (from openai<2.0.0,>=1.99.9->langchain_openai) (0.10.0)\n",
            "Requirement already satisfied: sniffio in /usr/local/lib/python3.12/dist-packages (from openai<2.0.0,>=1.99.9->langchain_openai) (1.3.1)\n",
            "Requirement already satisfied: tqdm>4 in /usr/local/lib/python3.12/dist-packages (from openai<2.0.0,>=1.99.9->langchain_openai) (4.67.1)\n",
            "Requirement already satisfied: annotated-types>=0.6.0 in /usr/local/lib/python3.12/dist-packages (from pydantic<3,>=2->langchain_google_genai) (0.7.0)\n",
            "Requirement already satisfied: pydantic-core==2.33.2 in /usr/local/lib/python3.12/dist-packages (from pydantic<3,>=2->langchain_google_genai) (2.33.2)\n",
            "Requirement already satisfied: typing-inspection>=0.4.0 in /usr/local/lib/python3.12/dist-packages (from pydantic<3,>=2->langchain_google_genai) (0.4.1)\n",
            "Requirement already satisfied: regex>=2022.1.18 in /usr/local/lib/python3.12/dist-packages (from tiktoken<1,>=0.7->langchain_openai) (2024.11.6)\n",
            "Requirement already satisfied: requests>=2.26.0 in /usr/local/lib/python3.12/dist-packages (from tiktoken<1,>=0.7->langchain_openai) (2.32.3)\n",
            "Requirement already satisfied: idna>=2.8 in /usr/local/lib/python3.12/dist-packages (from anyio<5,>=3.5.0->openai<2.0.0,>=1.99.9->langchain_openai) (3.10)\n",
            "Requirement already satisfied: googleapis-common-protos<2.0.0,>=1.56.2 in /usr/local/lib/python3.12/dist-packages (from google-api-core!=2.0.*,!=2.1.*,!=2.10.*,!=2.2.*,!=2.3.*,!=2.4.*,!=2.5.*,!=2.6.*,!=2.7.*,!=2.8.*,!=2.9.*,<3.0.0,>=1.34.1->google-api-core[grpc]!=2.0.*,!=2.1.*,!=2.10.*,!=2.2.*,!=2.3.*,!=2.4.*,!=2.5.*,!=2.6.*,!=2.7.*,!=2.8.*,!=2.9.*,<3.0.0,>=1.34.1->google-ai-generativelanguage<0.7.0,>=0.6.18->langchain_google_genai) (1.70.0)\n",
            "Requirement already satisfied: grpcio<2.0.0,>=1.33.2 in /usr/local/lib/python3.12/dist-packages (from google-api-core[grpc]!=2.0.*,!=2.1.*,!=2.10.*,!=2.2.*,!=2.3.*,!=2.4.*,!=2.5.*,!=2.6.*,!=2.7.*,!=2.8.*,!=2.9.*,<3.0.0,>=1.34.1->google-ai-generativelanguage<0.7.0,>=0.6.18->langchain_google_genai) (1.74.0)\n",
            "Requirement already satisfied: grpcio-status<2.0.0,>=1.33.2 in /usr/local/lib/python3.12/dist-packages (from google-api-core[grpc]!=2.0.*,!=2.1.*,!=2.10.*,!=2.2.*,!=2.3.*,!=2.4.*,!=2.5.*,!=2.6.*,!=2.7.*,!=2.8.*,!=2.9.*,<3.0.0,>=1.34.1->google-ai-generativelanguage<0.7.0,>=0.6.18->langchain_google_genai) (1.71.2)\n",
            "Requirement already satisfied: cachetools<6.0,>=2.0.0 in /usr/local/lib/python3.12/dist-packages (from google-auth!=2.24.0,!=2.25.0,<3.0.0,>=2.14.1->google-ai-generativelanguage<0.7.0,>=0.6.18->langchain_google_genai) (5.5.2)\n",
            "Requirement already satisfied: pyasn1-modules>=0.2.1 in /usr/local/lib/python3.12/dist-packages (from google-auth!=2.24.0,!=2.25.0,<3.0.0,>=2.14.1->google-ai-generativelanguage<0.7.0,>=0.6.18->langchain_google_genai) (0.4.2)\n",
            "Requirement already satisfied: rsa<5,>=3.1.4 in /usr/local/lib/python3.12/dist-packages (from google-auth!=2.24.0,!=2.25.0,<3.0.0,>=2.14.1->google-ai-generativelanguage<0.7.0,>=0.6.18->langchain_google_genai) (4.9.1)\n",
            "Requirement already satisfied: certifi in /usr/local/lib/python3.12/dist-packages (from httpx<1,>=0.23.0->openai<2.0.0,>=1.99.9->langchain_openai) (2025.8.3)\n",
            "Requirement already satisfied: httpcore==1.* in /usr/local/lib/python3.12/dist-packages (from httpx<1,>=0.23.0->openai<2.0.0,>=1.99.9->langchain_openai) (1.0.9)\n",
            "Requirement already satisfied: h11>=0.16 in /usr/local/lib/python3.12/dist-packages (from httpcore==1.*->httpx<1,>=0.23.0->openai<2.0.0,>=1.99.9->langchain_openai) (0.16.0)\n",
            "Requirement already satisfied: jsonpointer>=1.9 in /usr/local/lib/python3.12/dist-packages (from jsonpatch<2.0,>=1.33->langchain-core<1.0.0,>=0.3.74->langchain_openai) (3.0.0)\n",
            "Requirement already satisfied: orjson>=3.9.14 in /usr/local/lib/python3.12/dist-packages (from langsmith>=0.3.45->langchain-core<1.0.0,>=0.3.74->langchain_openai) (3.11.2)\n",
            "Requirement already satisfied: requests-toolbelt>=1.0.0 in /usr/local/lib/python3.12/dist-packages (from langsmith>=0.3.45->langchain-core<1.0.0,>=0.3.74->langchain_openai) (1.0.0)\n",
            "Requirement already satisfied: zstandard>=0.23.0 in /usr/local/lib/python3.12/dist-packages (from langsmith>=0.3.45->langchain-core<1.0.0,>=0.3.74->langchain_openai) (0.23.0)\n",
            "Requirement already satisfied: charset-normalizer<4,>=2 in /usr/local/lib/python3.12/dist-packages (from requests>=2.26.0->tiktoken<1,>=0.7->langchain_openai) (3.4.3)\n",
            "Requirement already satisfied: urllib3<3,>=1.21.1 in /usr/local/lib/python3.12/dist-packages (from requests>=2.26.0->tiktoken<1,>=0.7->langchain_openai) (2.5.0)\n",
            "Requirement already satisfied: pyasn1<0.7.0,>=0.6.1 in /usr/local/lib/python3.12/dist-packages (from pyasn1-modules>=0.2.1->google-auth!=2.24.0,!=2.25.0,<3.0.0,>=2.14.1->google-ai-generativelanguage<0.7.0,>=0.6.18->langchain_google_genai) (0.6.1)\n"
          ]
        }
      ],
      "source": [
        "!pip install langchain_openai langchain_google_genai"
      ]
    },
    {
      "cell_type": "code",
      "execution_count": 28,
      "metadata": {
        "colab": {
          "base_uri": "https://localhost:8080/"
        },
        "id": "V5f6LEkWeh_e",
        "outputId": "feb32a8e-1486-4728-e622-b227620d8151"
      },
      "outputs": [
        {
          "output_type": "execute_result",
          "data": {
            "text/plain": [
              "4"
            ]
          },
          "metadata": {},
          "execution_count": 28
        }
      ],
      "source": [
        "len(tab)"
      ]
    },
    {
      "cell_type": "code",
      "execution_count": 29,
      "metadata": {
        "colab": {
          "base_uri": "https://localhost:8080/",
          "height": 53
        },
        "id": "0xbJ4cytfpsN",
        "outputId": "2000d305-e2d8-4853-bebf-9ebf9e5f508c"
      },
      "outputs": [
        {
          "output_type": "execute_result",
          "data": {
            "text/plain": [
              "'Layer Type Complexity per Layer Sequential Maximum Path Length Operations Self-Attention O(n2 · d) O(1) O(1) Recurrent O(n · d2) O(n) O(n) Convolutional O(k · n · d2) O(1) O(logk(n)) Self-Attention (restricted) O(r · n · d) O(1) O(n/r)'"
            ],
            "application/vnd.google.colaboratory.intrinsic+json": {
              "type": "string"
            }
          },
          "metadata": {},
          "execution_count": 29
        }
      ],
      "source": [
        "tab[0]"
      ]
    },
    {
      "cell_type": "code",
      "execution_count": 30,
      "metadata": {
        "colab": {
          "base_uri": "https://localhost:8080/"
        },
        "id": "CXMVS1PWezj3",
        "outputId": "6f05526f-cf50-4251-b6df-2b1ca92caecd"
      },
      "outputs": [
        {
          "output_type": "execute_result",
          "data": {
            "text/plain": [
              "7"
            ]
          },
          "metadata": {},
          "execution_count": 30
        }
      ],
      "source": [
        "len(img)"
      ]
    },
    {
      "cell_type": "code",
      "execution_count": 31,
      "metadata": {
        "id": "kpjw423Ye0ju"
      },
      "outputs": [],
      "source": [
        "from langchain_core.output_parsers import StrOutputParser\n",
        "from langchain_core.prompts import ChatPromptTemplate\n",
        "from langchain_openai import ChatOpenAI\n",
        "from langchain_google_genai import ChatGoogleGenerativeAI"
      ]
    },
    {
      "cell_type": "code",
      "execution_count": 32,
      "metadata": {
        "id": "_bbRvggrfFUG"
      },
      "outputs": [],
      "source": [
        "# Prompt\n",
        "prompt_text = \"\"\"You are an assistant tasked with summarizing tables for retrieval. \\\n",
        "    These summaries will be embedded and used to retrieve the raw table elements. \\\n",
        "    Give a concise summary of the table that is well optimized for retrieval. Table {element} \"\"\""
      ]
    },
    {
      "cell_type": "code",
      "execution_count": 33,
      "metadata": {
        "id": "JM-4CppSfJnd"
      },
      "outputs": [],
      "source": [
        "prompt = ChatPromptTemplate.from_template(prompt_text)"
      ]
    },
    {
      "cell_type": "code",
      "execution_count": 40,
      "metadata": {
        "id": "kEAfJG7_fXDu"
      },
      "outputs": [],
      "source": [
        "import os\n",
        "from google.colab import userdata\n",
        "\n",
        "OPENAI_API_TOKEN=userdata.get('OPENAI_API_KEY')\n",
        "os.environ[\"OPENAI_API_KEY\"] = OPENAI_API_TOKEN\n",
        "\n",
        "GEMINI_API_TOKEN = userdata.get('GEMINI_API_KEY')\n",
        "os.environ[\"GEMINI_API_KEY\"] = GEMINI_API_TOKEN"
      ]
    },
    {
      "cell_type": "code",
      "execution_count": 55,
      "metadata": {
        "id": "1mHzuhFAfdUn"
      },
      "outputs": [],
      "source": [
        "# Text summary chain\n",
        "model = ChatGoogleGenerativeAI(model=\"gemini-2.5-flash\")\n",
        "model = ChatOpenAI(model=\"gpt-4o-mini\")"
      ]
    },
    {
      "cell_type": "code",
      "execution_count": 56,
      "metadata": {
        "id": "Vi5h9tpPftEu"
      },
      "outputs": [],
      "source": [
        "summarize_chain = {\"element\": lambda x: x} | prompt | model | StrOutputParser()"
      ]
    },
    {
      "cell_type": "code",
      "execution_count": 57,
      "metadata": {
        "id": "2nqNsUzyf03Q"
      },
      "outputs": [],
      "source": [
        "table_summaries = []"
      ]
    },
    {
      "cell_type": "code",
      "execution_count": 58,
      "metadata": {
        "id": "ybpy889Hf4GI"
      },
      "outputs": [],
      "source": [
        "table_summaries=summarize_chain.batch(tab,{\"max_concurrency\": 5})"
      ]
    },
    {
      "cell_type": "code",
      "execution_count": 59,
      "metadata": {
        "colab": {
          "base_uri": "https://localhost:8080/",
          "height": 53
        },
        "id": "t114EKUfgLKF",
        "outputId": "92b726f5-6a0b-44cf-c66f-7adfb741ecb5"
      },
      "outputs": [
        {
          "output_type": "execute_result",
          "data": {
            "text/plain": [
              "'Layer Type Complexity per Layer Sequential Maximum Path Length Operations Self-Attention O(n2 · d) O(1) O(1) Recurrent O(n · d2) O(n) O(n) Convolutional O(k · n · d2) O(1) O(logk(n)) Self-Attention (restricted) O(r · n · d) O(1) O(n/r)'"
            ],
            "application/vnd.google.colaboratory.intrinsic+json": {
              "type": "string"
            }
          },
          "metadata": {},
          "execution_count": 59
        }
      ],
      "source": [
        "tab[0]"
      ]
    },
    {
      "cell_type": "code",
      "execution_count": 60,
      "metadata": {
        "colab": {
          "base_uri": "https://localhost:8080/",
          "height": 105
        },
        "id": "aAslSPlZgOAu",
        "outputId": "48554420-13dd-4cd8-ee24-5e8b5f97ff45"
      },
      "outputs": [
        {
          "output_type": "execute_result",
          "data": {
            "text/plain": [
              "'**Table Summary: Layer Types and Complexity**\\n\\nThis table compares different layer types in terms of their computational complexity and operational characteristics:\\n\\n1. **Self-Attention**\\n   - Complexity: O(n² · d)\\n   - Sequential Max Path Length: O(1)\\n   - Operations: O(1)\\n\\n2. **Recurrent**\\n   - Complexity: O(n · d²)\\n   - Sequential Max Path Length: O(n)\\n   - Operations: O(n)\\n\\n3. **Convolutional**\\n   - Complexity: O(k · n · d²)\\n   - Sequential Max Path Length: O(1)\\n   - Operations: O(logk(n))\\n\\n4. **Self-Attention (Restricted)**\\n   - Complexity: O(r · n · d)\\n   - Sequential Max Path Length: O(1)\\n   - Operations: O(n/r)\\n\\nKey parameters include layer type (Self-Attention, Recurrent, Convolutional), complexity in terms of input size (n), depth (d), and additional parameters (k, r).'"
            ],
            "application/vnd.google.colaboratory.intrinsic+json": {
              "type": "string"
            }
          },
          "metadata": {},
          "execution_count": 60
        }
      ],
      "source": [
        "table_summaries[0]"
      ]
    },
    {
      "cell_type": "code",
      "execution_count": 61,
      "metadata": {
        "colab": {
          "base_uri": "https://localhost:8080/",
          "height": 53
        },
        "id": "Xdif_KSTgQ9G",
        "outputId": "a6e63bf4-e621-44aa-ca7f-5e6ad3cb4030"
      },
      "outputs": [
        {
          "output_type": "execute_result",
          "data": {
            "text/plain": [
              "'Output Probabilities Add & Norm Feed Forward Add & Norm Multi-Head Attention yo Add & Norm Add & Norm Feed Forward Nx | Cag Norm) Add & Norm Masked Multi-Head Multi-Head Attention Attention Lt Lt Positional Positional Encoding EQ © OY Encoding Input Output Embedding Embedding Inputs Outputs (shifted right)'"
            ],
            "application/vnd.google.colaboratory.intrinsic+json": {
              "type": "string"
            }
          },
          "metadata": {},
          "execution_count": 61
        }
      ],
      "source": [
        "img[0]"
      ]
    },
    {
      "cell_type": "code",
      "execution_count": 62,
      "metadata": {
        "id": "clS9oDdqgcqn"
      },
      "outputs": [],
      "source": [
        "import base64\n",
        "import os\n",
        "from langchain_core.messages import HumanMessage"
      ]
    },
    {
      "cell_type": "code",
      "execution_count": 63,
      "metadata": {
        "id": "mKR7JUAEgixP"
      },
      "outputs": [],
      "source": [
        "def encode_image(image_path):\n",
        "    \"\"\"Getting the base64 string\"\"\"\n",
        "    with open(image_path, \"rb\") as image_file:\n",
        "        return base64.b64encode(image_file.read()).decode(\"utf-8\")"
      ]
    },
    {
      "cell_type": "code",
      "execution_count": 64,
      "metadata": {
        "id": "nqWb87Hbgn8g"
      },
      "outputs": [],
      "source": [
        "def image_summarize(img_base64, prompt):\n",
        "    \"\"\"Make image summary\"\"\"\n",
        "\n",
        "\n",
        "    chat = ChatOpenAI(model=\"gpt-5\", max_tokens=1024)\n",
        "\n",
        "    msg = chat.invoke(\n",
        "        [\n",
        "            HumanMessage(\n",
        "                content=[\n",
        "                    {\"type\": \"text\", \"text\": prompt},\n",
        "\n",
        "                     {\n",
        "                        \"type\": \"image_url\",\n",
        "                        \"image_url\": {\"url\": f\"data:image/jpeg;base64,{img_base64}\"},\n",
        "                    },\n",
        "                ]\n",
        "            )\n",
        "        ]\n",
        "    )\n",
        "    return msg.content"
      ]
    },
    {
      "cell_type": "code",
      "execution_count": 65,
      "metadata": {
        "id": "M2chds0kg16e"
      },
      "outputs": [],
      "source": [
        "def generate_img_summaries(path):\n",
        "    \"\"\"\n",
        "    Generate summaries and base64 encoded strings for images\n",
        "    path: Path to list of .jpg files extracted by Unstructured\n",
        "    \"\"\"\n",
        "\n",
        "    # Store base64 encoded images\n",
        "    img_base64_list = []\n",
        "\n",
        "    # Store image summaries\n",
        "    image_summaries = []\n",
        "\n",
        "    # Prompt\n",
        "    prompt = \"\"\"You are an assistant tasked with summarizing images for retrieval. \\\n",
        "    These summaries will be embedded and used to retrieve the raw image. \\\n",
        "    Give a concise summary of the image that is well optimized for retrieval.\"\"\"\n",
        "\n",
        "\n",
        "    base64_image = encode_image(path)\n",
        "    img_base64_list.append(base64_image)\n",
        "    image_summaries.append(image_summarize(base64_image, prompt))\n",
        "\n",
        "    return img_base64_list, image_summaries"
      ]
    },
    {
      "cell_type": "code",
      "execution_count": 66,
      "metadata": {
        "id": "ebVqRi8fhLM4"
      },
      "outputs": [],
      "source": [
        "fpath=\"/content/extracted_data/figure-3-1.jpg\""
      ]
    },
    {
      "cell_type": "code",
      "execution_count": 67,
      "metadata": {
        "id": "zQbpbrRbhRhO"
      },
      "outputs": [],
      "source": [
        "img_base64_list,image_summaries=generate_img_summaries(fpath)"
      ]
    },
    {
      "cell_type": "code",
      "execution_count": 68,
      "metadata": {
        "colab": {
          "base_uri": "https://localhost:8080/",
          "height": 88
        },
        "id": "GTtDwQ0chbf-",
        "outputId": "2fb1ec6e-3fdc-479b-d886-a1a2d01da690"
      },
      "outputs": [
        {
          "output_type": "execute_result",
          "data": {
            "text/plain": [
              "'Transformer architecture diagram (Attention Is All You Need): encoder–decoder stack with N× repeated layers. Encoder: input embedding + positional encoding → multi-head self-attention → add & norm → feed-forward → add & norm (residuals). Decoder: output embedding + positional encoding → masked multi-head self-attention → add & norm → cross-attention to encoder → add & norm → feed-forward → add & norm. Final linear + softmax to output probabilities. Keywords: residual connections, positional encodings, multi-head attention, masked attention, feed-forward, encoder-decoder.'"
            ],
            "application/vnd.google.colaboratory.intrinsic+json": {
              "type": "string"
            }
          },
          "metadata": {},
          "execution_count": 68
        }
      ],
      "source": [
        "image_summaries[0]"
      ]
    },
    {
      "cell_type": "code",
      "execution_count": null,
      "metadata": {
        "id": "HA5izJnzhgB3"
      },
      "outputs": [],
      "source": []
    }
  ],
  "metadata": {
    "colab": {
      "provenance": []
    },
    "kernelspec": {
      "display_name": "Python 3",
      "name": "python3"
    },
    "language_info": {
      "name": "python"
    }
  },
  "nbformat": 4,
  "nbformat_minor": 0
}